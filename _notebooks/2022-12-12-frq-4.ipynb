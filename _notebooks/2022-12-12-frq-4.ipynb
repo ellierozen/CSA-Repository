{
 "cells": [
  {
   "attachments": {},
   "cell_type": "markdown",
   "metadata": {},
   "source": [
    "# FRQ 4 "
   ]
  },
  {
   "attachments": {},
   "cell_type": "markdown",
   "metadata": {},
   "source": [
    "a) Write the constructor for the LightBoard class, which initializes lights so that each light is set to \n",
    "on with a 40% probability. The notation lights[r][c] represents the array element at row r and \n",
    "column c\n",
    "\n",
    "(b) Write the method evaluateLight, which computes and returns the status of a light at a given row and \n",
    "column based on the following rules. \n",
    "1. If the light is on, return false if the number of lights in its column that are on is even, including \n",
    "the current light. \n",
    "2. If the light is off, return true if the number of lights in its column that are on is divisible by three. \n",
    "3. Otherwise, return the light’s current status. "
   ]
  },
  {
   "cell_type": "code",
   "execution_count": 6,
   "metadata": {},
   "outputs": [
    {
     "name": "stdout",
     "output_type": "stream",
     "text": [
      "false\n",
      "true\n",
      "false\n"
     ]
    }
   ],
   "source": [
    "public class LightBoard {\n",
    "\n",
    "    private boolean[][] lights;\n",
    "\n",
    "    public LightBoard(int numRows, int numCols) {\n",
    "\n",
    "        lights = new boolean[numRows][numCols];\n",
    "\n",
    "        for(int i = 0; i < lights.length; i++) {\n",
    "            for(int j = 0; j < lights[i].length; j++){\n",
    "                \n",
    "                if (Math.random() < 0.4) {\n",
    "                    lights[i][j] = true;\n",
    "                }\n",
    "                else {\n",
    "                    lights[i][j] = false;\n",
    "                }\n",
    "        \n",
    "            }\n",
    "        }\n",
    "\n",
    "    }\n",
    "\n",
    "    public boolean evaluateLight(int row, int col) {\n",
    "        int counter = 0;\n",
    "\n",
    "        for(int i = 0; i < lights.length; i++)\n",
    "            if(lights[i][col] == true){\n",
    "                counter++; \n",
    "            }\n",
    "        \n",
    "        if( counter % 2 == 0){\n",
    "            return false;\n",
    "        }\n",
    "        else if(counter % 3 == 0){\n",
    "            return true;\n",
    "        }\n",
    "        else{\n",
    "             return lights[row][col];\n",
    "        }\n",
    "    }\n",
    "}\n",
    "\n",
    "LightBoard x = new LightBoard(4,4);\n",
    "System.out.println(x.evaluateLight(0,0));\n",
    "System.out.println(x.evaluateLight(0,1));\n",
    "System.out.println(x.evaluateLight(1,2));"
   ]
  }
 ],
 "metadata": {
  "kernelspec": {
   "display_name": "Java",
   "language": "java",
   "name": "java"
  },
  "language_info": {
   "codemirror_mode": "java",
   "file_extension": ".jshell",
   "mimetype": "text/x-java-source",
   "name": "java",
   "pygments_lexer": "java",
   "version": "11.0.16+8-post-Ubuntu-0ubuntu120.04"
  },
  "orig_nbformat": 4
 },
 "nbformat": 4,
 "nbformat_minor": 2
}
