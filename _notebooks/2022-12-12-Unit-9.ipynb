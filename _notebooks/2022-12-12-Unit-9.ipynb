{
 "cells": [
  {
   "attachments": {},
   "cell_type": "markdown",
   "metadata": {},
   "source": [
    "unit 9 inheritance \n",
    "- superclass \n",
    "\t- extends charactersitcs down to subclasses \n",
    "\t- Allows reusing the code and adding attributes if needed in every subclass.\n",
    "- A subclass can also become a super class by extending it again in another subclass. \n",
    "\t- same goes for a constructor in which, the keyword “super” is used to call the super class constructor and can add additional attributes for personalization. \n",
    "- override used for overriding methods \n",
    "- superclasses and subclasses organized into inherticane heiracrchy \n",
    "- polymorphism "
   ]
  },
  {
   "cell_type": "code",
   "execution_count": 3,
   "metadata": {},
   "outputs": [
    {
     "ename": "CompilationException",
     "evalue": "",
     "output_type": "error",
     "traceback": [
      "\u001b[1m\u001b[30m|   \u001b[1m\u001b[30m    public String franceToString\u001b[0m\u001b[1m\u001b[30m\u001b[41m\u001b[0m\u001b[1m\u001b[30m{\u001b[0m",
      "\u001b[1m\u001b[31m';' expected\u001b[0m",
      ""
     ]
    }
   ],
   "source": [
    "class WorldCup{\n",
    "    private int players;\n",
    "    private int wins; \n",
    "    private int losses;\n",
    "\n",
    "    public String toString{\n",
    "        return ( \"{ \\\"wins\\\": \"  +this.wins+  \", \" + \"\\\"losses\\\": \"  +this.losses+ \"\\\"total players\\\": \"  + this.players +\" }\" );\n",
    "    }\n",
    " \n",
    "\n",
    "}\n",
    "    \n",
    "\n",
    "\n",
    "class France extends WorldCup{\n",
    "    public void france(int wins, int losses, int players){\n",
    "        France stats = new France(23, 9, 31);\n",
    "    } \n",
    "\n",
    "   \n",
    "\n",
    "}\n",
    "\n"
   ]
  }
 ],
 "metadata": {
  "kernelspec": {
   "display_name": "Java",
   "language": "java",
   "name": "java"
  },
  "language_info": {
   "codemirror_mode": "java",
   "file_extension": ".jshell",
   "mimetype": "text/x-java-source",
   "name": "java",
   "pygments_lexer": "java",
   "version": "11.0.16+8-post-Ubuntu-0ubuntu120.04"
  },
  "orig_nbformat": 4
 },
 "nbformat": 4,
 "nbformat_minor": 2
}
