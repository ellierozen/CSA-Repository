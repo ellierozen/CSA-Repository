{
 "cells": [
  {
   "cell_type": "markdown",
   "metadata": {},
   "source": [
    "# Unit 1 Collegeboard Primitves "
   ]
  },
  {
   "cell_type": "markdown",
   "metadata": {},
   "source": [
    "Java: \n",
    "- Has simple syntax\n",
    "- Allows for automatic garage collection\n",
    "- More flexible and efficient because its OOP\n",
    "- It can be run on any platform\n",
    "- It allows for multi threading\n",
    "- Secure language because it doesn't have pointers \n",
    "\n",
    "Primitives vs. Non primitives\n",
    "- Primitives\n",
    "    - Predefined\n",
    "    - Lowercase\n",
    "    - Cant call methods\n",
    "\n",
    "- Non primitives\n",
    "    - Uppercase\n",
    "    - Can call methods and be null\n",
    "    - Regular Java: String is considered a Non-Primitive data type\n",
    "- Wrapper Classes: is a class and has methods\n",
    "### Primitives\n",
    "- Boolean\n",
    "   - true/false\n",
    "   - one but\n",
    "- Integer\n",
    "   - integer values\n",
    "   - 2-3 bots\n",
    "- Double\n",
    "   - decimal values\n",
    "   - 64 bits\n",
    "- Extra Primitive Examples; char, float, long, etc.\n"
   ]
  },
  {
   "cell_type": "markdown",
   "metadata": {},
   "source": [
    "## New vocab\n",
    "Casting with truncating/rounding \n",
    "- One of the applications of using a cast is rounding to the nearest integer. Since casting doubles to integers simply truncates the decimal, we need to modify the original input in order to achieve true rounding.\n",
    "Positive Rounding\n",
    "- With truncation, casting any negative decimal will covert the decimal to the rounded-up integer. However, we want decimals less than 0.5 to round up and the rest to round down. In the same opposite nature, we subtract 0.5 to the double before casting \n",
    "*rounding*:\n",
    "(int) (a + 0.5);\n",
    "Examples:\n",
    "a = 1.3 which would normally round to 1:\n",
    "   (int) (1.3 + 0.5)\n",
    " = (int) (1.8)\n",
    " = **1**\n",
    "a = 1.8 which would normally round to 2:\n",
    "   (int) (1.8 + 0.5)\n",
    " = (int) (2.3)\n",
    " = **2**\n",
    "a = 1.5 which would normally round to 2:\n",
    "   (int) (1.5 + 0.5)\n",
    " = (int) (2)\n",
    " = **2**\n",
    "a = 1 which would normally round to 1:\n",
    "   (int) (1 + 0.5)\n",
    " = (int) (1.5)\n",
    " = **1**\n",
    "*truncating*\n",
    "(int) (a - 0.5);\n",
    "Examples:\n",
    "a = -1.3 which would normally round to -1:\n",
    "   (int) (-1.3 - 0.5)\n",
    " = (int) (-1.8)\n",
    " = **-1**\n",
    "a = -1.8 which would normally round to -2:\n",
    "   (int) (-1.8 - 0.5)\n",
    " = (int) (-2.3)\n",
    " = -**2**\n",
    "a = -1.5 which would normally round to -2:\n",
    "   (int) (-1.5 - 0.5)\n",
    " = (int) (-2)\n",
    " = -**2**\n",
    "a = -1 which would normally round to -1:\n",
    "   (int) (-1 - 0.5)\n",
    " = (int) (-1.5)\n",
    " = -**1**\n",
    "\n",
    "Casting with division\n",
    "- If you divide 5/3 using integer division, Java will truncate 1.67 to 1 to give an int result. However, we usually round up any answer .5 and above. Using the formula below, if we add 1.67 + 0.50, we get 2.17 and then casting it to an int throws away what’s after the decimal point, just leaving 2\n",
    "Example:\n",
    "int nearestInt = (int)(number + 0.5);\n",
    "int nearestNegInt = (int)(negNumber – 0.5);"
   ]
  },
  {
   "cell_type": "markdown",
   "metadata": {},
   "source": [
    "### casting tangibles "
   ]
  },
  {
   "cell_type": "code",
   "execution_count": 3,
   "metadata": {},
   "outputs": [
    {
     "name": "stdout",
     "output_type": "stream",
     "text": [
      "Total: 100\n",
      "People: 40\n",
      "Average: 2.5\n"
     ]
    }
   ],
   "source": [
    "\n",
    "        int total = 100;\n",
    "        int numPeople = 40;\n",
    "        double average = total / (double) numPeople;\n",
    "        System.out.print(\"Total: \");\n",
    "        System.out.println(total);\n",
    "        System.out.print(\"People: \");\n",
    "        System.out.println(numPeople);\n",
    "        System.out.print(\"Average: \");\n",
    "        System.out.println(average);"
   ]
  },
  {
   "cell_type": "markdown",
   "metadata": {},
   "source": [
    "## 2006 Collegeboard FRQ "
   ]
  },
  {
   "cell_type": "markdown",
   "metadata": {},
   "source": [
    "## 2a"
   ]
  },
  {
   "cell_type": "code",
   "execution_count": null,
   "metadata": {},
   "outputs": [],
   "source": [
    "public double purchasePrice(){\n",
    "    return ((1 + taxrate) * getListPrice());  \n",
    "  }"
   ]
  },
  {
   "cell_type": "markdown",
   "metadata": {},
   "source": [
    "## 3a"
   ]
  },
  {
   "cell_type": "code",
   "execution_count": null,
   "metadata": {},
   "outputs": [],
   "source": [
    "public int compareCustomer(Customer other){\n",
    " int nameCompare = getName().compareTo(other.getName());\n",
    " if (nameCompare != 0){\n",
    "  return nameCompare;\n",
    " }\n",
    " else{\n",
    "  return getID() - other.getID();\n",
    " } \n",
    "} "
   ]
  }
 ],
 "metadata": {
  "kernelspec": {
   "display_name": "Java",
   "language": "java",
   "name": "java"
  },
  "language_info": {
   "codemirror_mode": "java",
   "file_extension": ".jshell",
   "mimetype": "text/x-java-source",
   "name": "java",
   "pygments_lexer": "java",
   "version": "11.0.16+8-post-Ubuntu-0ubuntu120.04"
  },
  "orig_nbformat": 4,
  "vscode": {
   "interpreter": {
    "hash": "916dbcbb3f70747c44a77c7bcd40155683ae19c65e1c03b4aa3499c5328201f1"
   }
  }
 },
 "nbformat": 4,
 "nbformat_minor": 2
}
