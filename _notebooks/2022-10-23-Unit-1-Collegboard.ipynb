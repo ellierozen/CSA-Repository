{
 "cells": [
  {
   "cell_type": "markdown",
   "metadata": {},
   "source": [
    "# Unit 1 Collegeboard Primitves "
   ]
  },
  {
   "cell_type": "markdown",
   "metadata": {},
   "source": [
    "Java: \n",
    "- Has simple syntax\n",
    "- Allows for automatic garage collection\n",
    "- More flexible and efficient because its OOP\n",
    "- It can be run on any platform\n",
    "- It allows for multi threading\n",
    "- Secure language because it doesn't have pointers \n",
    "\n",
    "Primitives vs. Non primitives\n",
    "- Primitives\n",
    "    - Predefined\n",
    "    - Lowercase\n",
    "    - Cant call methods\n",
    "\n",
    "- Non primitives\n",
    "    - Uppercase\n",
    "    - Can call methods and be null\n",
    "    - Regular Java: String is considered a Non-Primitive data type\n",
    "- Wrapper Classes: is a class and has methods\n",
    "### Primitives\n",
    "- Boolean\n",
    "   - true/false\n",
    "   - one but\n",
    "- Integer\n",
    "   - integer values\n",
    "   - 2-3 bots\n",
    "- Double\n",
    "   - decimal values\n",
    "   - 64 bits\n",
    "- Extra Primitive Examples; char, float, long, etc.\n"
   ]
  },
  {
   "cell_type": "markdown",
   "metadata": {},
   "source": [
    "## 2006 Collegeboard FRQ "
   ]
  },
  {
   "cell_type": "markdown",
   "metadata": {},
   "source": [
    "## 2a"
   ]
  },
  {
   "cell_type": "code",
   "execution_count": null,
   "metadata": {},
   "outputs": [],
   "source": [
    "public double purchasePrice(){\n",
    "    return ((1 + taxrate) * getListPrice());  \n",
    "  }"
   ]
  },
  {
   "cell_type": "markdown",
   "metadata": {},
   "source": [
    "## 3a"
   ]
  },
  {
   "cell_type": "code",
   "execution_count": null,
   "metadata": {},
   "outputs": [],
   "source": [
    "public int compareCustomer(Customer other){\n",
    " int nameCompare = getName().compareTo(other.getName());\n",
    " if (nameCompare != 0){\n",
    "  return nameCompare;\n",
    " }\n",
    " else{\n",
    "  return getID() - other.getID();\n",
    " } \n",
    "} "
   ]
  }
 ],
 "metadata": {
  "kernelspec": {
   "display_name": "Java",
   "language": "java",
   "name": "java"
  },
  "language_info": {
   "name": "java",
   "version": "3.8.10"
  },
  "orig_nbformat": 4,
  "vscode": {
   "interpreter": {
    "hash": "916dbcbb3f70747c44a77c7bcd40155683ae19c65e1c03b4aa3499c5328201f1"
   }
  }
 },
 "nbformat": 4,
 "nbformat_minor": 2
}
