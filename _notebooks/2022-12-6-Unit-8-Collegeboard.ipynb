{
 "cells": [
  {
   "cell_type": "markdown",
   "metadata": {},
   "source": [
    "# Unit 8 2D Arrays Collegeboard"
   ]
  },
  {
   "cell_type": "markdown",
   "metadata": {},
   "source": [
    "- 2D array = array of arrays \n",
    "- creating an array int[][] numbers;\n",
    "\t- can initialize with values \n",
    "\t- can initalize with for loop \n",
    "- can change or access using index \n"
   ]
  },
  {
   "cell_type": "markdown",
   "metadata": {},
   "source": [
    "Create a class for 2D array learning.\n",
    "Create a method too initialize a 2D array with arbitrary values\n",
    "Create a method to reverse the 2D array and print out the values\n",
    "Create a method that asks for the input of a position and it returns the corresponding value\n",
    "Create a method that multiplies each value in a row and then adds all the products together\n",
    "Create a new object to test out each method in the main function"
   ]
  },
  {
   "cell_type": "code",
   "execution_count": 1,
   "metadata": {},
   "outputs": [],
   "source": [
    "public class Array{\n",
    "    \n",
    "} "
   ]
  },
  {
   "cell_type": "code",
   "execution_count": 16,
   "metadata": {},
   "outputs": [
    {
     "name": "stdout",
     "output_type": "stream",
     "text": [
      "1 2 3 \n",
      "4 5 6 \n",
      "6 5 4 \n",
      "3 2 1 \n",
      "Input row\n",
      "1\n",
      "Input column\n",
      "2\n",
      "Number is:6\n",
      "Product:6\n",
      "Product:120\n",
      "product of sums:126\n"
     ]
    }
   ],
   "source": [
    "import java.util.Scanner;\n",
    "\n",
    "public class Array{\n",
    "\n",
    "    int numbers[][] = {{1,2,3},{4,5,6}};\n",
    "\n",
    "    public void forwardArray(){\n",
    "        for(int i = 0; i < numbers.length; i++){\n",
    "            for(int j = 0; j < numbers[i].length; j++){\n",
    "                System.out.print(numbers[i][j] + \" \");\n",
    "            }\n",
    "\n",
    "            System.out.println();\n",
    "\n",
    "        }\n",
    "    }\n",
    "\n",
    "    public void reverseArray(){\n",
    "        for(int i = numbers.length-1;i>=0;i--){//arr[i].length=no of col in a ith row\n",
    "            for(int j = numbers[i].length-1; j >= 0;j--){ \n",
    "                System.out.print(numbers[i][j] + \" \");\n",
    "            }\n",
    "            System.out.println();\n",
    "    \n",
    "        }\n",
    "    }\n",
    "\n",
    "    public void inputPosition(){\n",
    "        Scanner scanner = new Scanner(System.in);\n",
    "\n",
    "        System.out.println(\"Input row\");\n",
    "        int row = scanner.nextInt();\n",
    "        System.out.println(row);\n",
    "\n",
    "        System.out.println(\"Input column\");\n",
    "        int column = scanner.nextInt();\n",
    "        System.out.println(column);\n",
    "\n",
    "        System.out.println(\"Number is:\" + numbers[row][column]);\n",
    "\n",
    "    }\n",
    "\n",
    "    public void multiplySum(){\n",
    "        int product = 1;\n",
    "        int sum= 0; \n",
    "\n",
    "        for(int i = 0; i < numbers.length; i++){\n",
    "            for(int j = 0; j < numbers[i].length; j++){\n",
    "                product *= numbers[i][j];\n",
    "            }\n",
    "            \n",
    "            System.out.println(\"Product:\" + product);\n",
    "            sum += product; \n",
    "            product = 1; \n",
    "        }\n",
    "\n",
    "        System.out.println(\"product of sums:\" + sum);\n",
    "    }\n",
    "\n",
    "\n",
    "    public static void main(String[] args){\n",
    "        Array arrays = new Array();\n",
    "        arrays.forwardArray();\n",
    "        arrays.reverseArray();\n",
    "        arrays.inputPosition();\n",
    "        arrays.multiplySum();\n",
    "    }\n",
    "\n",
    "\n",
    "}\n",
    "\n",
    "Array.main(null);\n"
   ]
  }
 ],
 "metadata": {
  "kernelspec": {
   "display_name": "Java",
   "language": "java",
   "name": "java"
  },
  "language_info": {
   "codemirror_mode": "java",
   "file_extension": ".jshell",
   "mimetype": "text/x-java-source",
   "name": "java",
   "pygments_lexer": "java",
   "version": "11.0.16+8-post-Ubuntu-0ubuntu120.04"
  },
  "orig_nbformat": 4
 },
 "nbformat": 4,
 "nbformat_minor": 2
}
