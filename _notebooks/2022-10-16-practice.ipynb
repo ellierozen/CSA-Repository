{
 "cells": [
  {
   "cell_type": "code",
   "execution_count": 17,
   "metadata": {},
   "outputs": [],
   "source": [
    "public class vehicle extends TaxableItem {\n",
    "\n",
    "\n",
    "    private double myCost;\n",
    "    private double myMarkup;\n",
    "    private double myRate;\n",
    "\n",
    "    public vehicle (double cost, double markup, double rate){\n",
    "        myCost = cost;\n",
    "        myMarkup = markup;\n",
    "        myRate = rate; \n",
    "    }\n",
    "    public double getList price(){\n",
    "        return myCost+ myMarkup;\n",
    "    }\n",
    "    \n",
    "    public void chargeMarkup(double reWorkUp){\n",
    "        myMarkup = newMarkup;\n",
    "    }\n",
    "\n",
    "    public double purchasePrice(){\n",
    "        return SetListPrice();\n",
    "    }\n",
    "\n",
    "    \n",
    "}"
   ]
  }
 ],
 "metadata": {
  "kernelspec": {
   "display_name": "Java",
   "language": "java",
   "name": "java"
  },
  "language_info": {
   "codemirror_mode": "java",
   "file_extension": ".jshell",
   "mimetype": "text/x-java-source",
   "name": "java",
   "pygments_lexer": "java",
   "version": "11.0.16+8-post-Ubuntu-0ubuntu120.04"
  },
  "orig_nbformat": 4
 },
 "nbformat": 4,
 "nbformat_minor": 2
}
