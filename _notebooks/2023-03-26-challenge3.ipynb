{
 "cells": [
  {
   "attachments": {},
   "cell_type": "markdown",
   "metadata": {},
   "source": [
    "# Challenge 3 Shuffle the queue "
   ]
  },
  {
   "cell_type": "code",
   "execution_count": 1,
   "metadata": {
    "vscode": {
     "languageId": "java"
    }
   },
   "outputs": [
    {
     "name": "stdout",
     "output_type": "stream",
     "text": [
      "before shuffle: [1, 2, 3, 4, 5, 6, 7, 8, 9, 10, 11, 12]\n",
      "Shuffled with Random: [3, 8, 11, 9, 12, 6, 5, 7, 2, 1, 10, 4]\n"
     ]
    }
   ],
   "source": [
    "import java.util.LinkedList;\n",
    "import java.util.Queue;\n",
    "import java.util.Random; \n",
    "\n",
    "public class QueueShuffle {\n",
    "    \n",
    "   static void randomize( int arr[], int n)\n",
    "    {\n",
    "        // Creating a object for Random class\n",
    "        Random r = new Random();\n",
    "          \n",
    "        // Start from the last element and swap one by one. We don't\n",
    "        // need to run for the first element that's why i > 0\n",
    "        for (int i = n-1; i > 0; i--) {\n",
    "              \n",
    "            // Pick a random index from 0 to i\n",
    "            int j = r.nextInt(i);\n",
    "              \n",
    "            // Swap arr[i] with the element at random index\n",
    "            int temp = arr[i];\n",
    "            arr[i] = arr[j];\n",
    "            arr[j] = temp;\n",
    "        }\n",
    " \n",
    "        // Prints the random array\n",
    "        System.out.println(Arrays.toString(arr));\n",
    "    }\n",
    "    \n",
    "\n",
    "    \n",
    "    public static void main(String[] args) {\n",
    "        LinkedList<Integer> list = new LinkedList<Integer>();\n",
    "        list.add(1);\n",
    "        list.add(2);\n",
    "        list.add(3);\n",
    "        list.add(4);\n",
    "        list.add(5);\n",
    "        list.add(6);\n",
    "        list.add(7);\n",
    "        list.add(8);\n",
    "        list.add(9);\n",
    "        list.add(10);\n",
    "        list.add(11);\n",
    "        list.add(12);\n",
    "\n",
    "        System.out.println(\"before shuffle: \" + list);\n",
    "        Collections.shuffle(list, new Random());\n",
    "        System.out.println(\"Shuffled with Random: \" +list);\n",
    "      \n",
    "    }\n",
    "}\n",
    "\n",
    "QueueShuffle.main(null);"
   ]
  }
 ],
 "metadata": {
  "kernelspec": {
   "display_name": "Java",
   "language": "java",
   "name": "java"
  },
  "language_info": {
   "codemirror_mode": "java",
   "file_extension": ".jshell",
   "mimetype": "text/x-java-source",
   "name": "Java",
   "pygments_lexer": "java",
   "version": "17.0.2+8-86"
  },
  "orig_nbformat": 4
 },
 "nbformat": 4,
 "nbformat_minor": 2
}
