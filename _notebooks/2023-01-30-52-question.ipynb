{
 "cells": [
  {
   "attachments": {},
   "cell_type": "markdown",
   "metadata": {},
   "source": [
    "# 52 Question quiz "
   ]
  },
  {
   "attachments": {},
   "cell_type": "markdown",
   "metadata": {},
   "source": [
    "![](../images/52qscore.png)\n"
   ]
  },
  {
   "attachments": {},
   "cell_type": "markdown",
   "metadata": {},
   "source": [
    "## mistakes and overview \n",
    "\n",
    "- 5: The code segment performs a column-major traversal of the array, beginning with the second column and the second row. For each column, all values in that column after the value in the first row are printed on a single line. The println method call causes data from subsequent columns to appear on new lines in the output.\n",
    "\n",
    "- 7:The combine method compares corresponding substrings of length 1\n",
    " from input strings one and two. If the substrings are the same, the substring is appended to res; otherwise, \"0\" is appended to res. The first and second characters of res are \"0\" because the characters in position 0\n",
    " and the characters in position 1\n",
    " of one and two differ. The third character of res is \"1\" because the characters in position 2\n",
    " of one and two are both \"1\". The fourth character in res is \"0\" because the characters in position 3\n",
    " of one and two differ. The fifth character in res is \"0\" because the last characters of one and two are both \"0\". The value \"00100\" is returned.\n",
    "\n",
    "- 9:The value of num is 7. In the first code line, str is assigned a string of length 7. In the second code line, the application of the substring method on str does not affect the value of str, so in the third code line, num is assigned the value 7.\n",
    "\n",
    "- 20: The character \"!\" is printed for each element of arr for which the value of the element is greater than the sum of the row and column indexes. In the first row, the sums of the row and column indexes are 0, 1, 2, and 3, and each array element is greater than the corresponding sum. In the second row, the sums of the row and column indexes are 1, 2, 3, and 4, and only the first two array elements are greater than the corresponding sums. The character \"!\" is printed 6 times.\n",
    "\n",
    "- 22: The outer loop will execute 4 times (because a two-dimensional array is equivalent to a one-dimensional array of the 4 rows). The inner loop will execute 4 times (because each row has 4 elements). The statement System.out.print(x + \" \") will execute 16 times (because 4 times 4 equals 16).\n",
    "\n",
    "- 29:The + operator concatenates the String literals, boolean values, String variables, and int variables in the order that they appear.\n",
    "\n",
    "- 33: he outer for loop iterates over every row of numbers and assigns each row to the array row.  The inner loop iterates over the array row accessing each element and assigning it to n. Then n is printed to the screen. In the first iteration of the outer loop, row is equal to {1, 2, 3}, and the inner loop will assign each successive value in row to n and print it to the screen, meaning 123 will be printed. For the second iteration of the outer loop, row is equal to {4, 5, 6}, and the inner loop will assign each successive value in row to n and print it to the screen, meaning 456 will be printed after 123, giving us the output 123456.\n",
    "\n",
    "- 38:  When i has the value 4, temp is assigned the value \"l\". When i has the value 3, \"p\" is appended to temp, resulting in \"lp\". When i has the value 2, \"p\" is appended to temp again, resulting in \"lpp\". In the last iteration of the for loop, i has the value 1 and \"a\" is appended to temp, resulting in \"lppa\".\n",
    "\n",
    "- 48: Option I is correct. The code segment uses a for loop to traverse the valueList array. The statement inside the loop calls the get method to access a Value object and then calls the getNum method to access the num instance variable. Option II is correct. The code segment uses an enhanced for loop to traverse the valueList array. The statement inside the loop calls the getNum method to access the num instance variable. Option III is incorrect. The code segment causes a compilation error because the getNum method must be called using the dot operator, not by passing the object reference as an argument.\n",
    "\n",
    "- 51: misread last line but i guess it does work \n"
   ]
  }
 ],
 "metadata": {
  "kernelspec": {
   "display_name": "Python 3",
   "language": "python",
   "name": "python3"
  },
  "language_info": {
   "name": "python",
   "version": "3.8.10 (default, Jun 22 2022, 20:18:18) \n[GCC 9.4.0]"
  },
  "orig_nbformat": 4,
  "vscode": {
   "interpreter": {
    "hash": "916dbcbb3f70747c44a77c7bcd40155683ae19c65e1c03b4aa3499c5328201f1"
   }
  }
 },
 "nbformat": 4,
 "nbformat_minor": 2
}
