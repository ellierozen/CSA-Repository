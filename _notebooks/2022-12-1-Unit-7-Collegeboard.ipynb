{
 "cells": [
  {
   "cell_type": "markdown",
   "metadata": {},
   "source": [
    "# Unit 7 Array Lists Collegeboard"
   ]
  },
  {
   "cell_type": "markdown",
   "metadata": {},
   "source": [
    "- a reference type \n",
    "\t- mutatble and contains \n",
    "- For loops \n",
    "- While loops \n",
    "- Enhanced for loops \n",
    "\t- for each loops \n",
    "- using arrary lists with doubles \n",
    "- Searching \n",
    "\t- the locating of data w/ linear structures \n",
    "\t- ie: arrays, lists, que, stack\n",
    "\t- involves control structures \n",
    "- Sorting \n",
    "\t- ascending and descending order \n",
    "\t"
   ]
  }
 ],
 "metadata": {
  "kernelspec": {
   "display_name": "Python 3.8.10 64-bit",
   "language": "python",
   "name": "python3"
  },
  "language_info": {
   "name": "python",
   "version": "3.8.10"
  },
  "orig_nbformat": 4,
  "vscode": {
   "interpreter": {
    "hash": "916dbcbb3f70747c44a77c7bcd40155683ae19c65e1c03b4aa3499c5328201f1"
   }
  }
 },
 "nbformat": 4,
 "nbformat_minor": 2
}
