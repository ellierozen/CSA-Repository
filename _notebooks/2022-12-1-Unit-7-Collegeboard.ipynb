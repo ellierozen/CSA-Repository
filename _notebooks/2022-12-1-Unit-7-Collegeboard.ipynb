{
 "cells": [
  {
   "cell_type": "markdown",
   "metadata": {},
   "source": [
    "# Unit 7 Array Lists Collegeboard"
   ]
  },
  {
   "cell_type": "markdown",
   "metadata": {},
   "source": [
    "- a reference type \n",
    "\t- mutatble and contains \n",
    "- For loops \n",
    "- While loops \n",
    "- Enhanced for loops \n",
    "\t- for each loops \n",
    "- using arrary lists with doubles \n",
    "- Searching \n",
    "\t- the locating of data w/ linear structures \n",
    "\t- ie: arrays, lists, que, stack\n",
    "\t- involves control structures \n",
    "- Sorting \n",
    "\t- ascending and descending order \n",
    "\t"
   ]
  },
  {
   "cell_type": "code",
   "execution_count": 6,
   "metadata": {
    "vscode": {
     "languageId": "java"
    }
   },
   "outputs": [
    {
     "name": "stdout",
     "output_type": "stream",
     "text": [
      "Reverse order: [92, 84, 64, 37, 1]\n",
      "swapped the first and last numbers [1, 84, 64, 37, 92]\n"
     ]
    }
   ],
   "source": [
    "//descending order and swapping first and last \n",
    "import java.util.ArrayList;\n",
    "import java.util.Collections;\n",
    "\n",
    "// Initializing an ArrayList filled with integers\n",
    "ArrayList<Integer> integers = new ArrayList<>(Arrays.asList(37,64,92,84,1));\n",
    "\n",
    "Collections.sort(integers);\n",
    "Collections.reverse(integers);\n",
    "\n",
    "\n",
    "System.out.println(\"Reverse order: \" + integers);\n",
    "\n",
    "public static void swap(){\n",
    "    Integer temp = numbers.get(0);\n",
    "    int last_index = integers.size()-1; \n",
    "    integers.set(0, integers.get(last_index));\n",
    "    integers.set(last_index, temp);\n",
    "    System.out.println(\"swapped the first and last numbers \" + integers);\n",
    "}\n",
    "\n",
    "swap()"
   ]
  },
  {
   "cell_type": "code",
   "execution_count": 9,
   "metadata": {
    "vscode": {
     "languageId": "java"
    }
   },
   "outputs": [
    {
     "name": "stdout",
     "output_type": "stream",
     "text": [
      "hash code: 30719139\n"
     ]
    }
   ],
   "source": [
    "//hashcode \n",
    "import java.util.ArrayList;\n",
    "import java.util.Collections;\n",
    "\n",
    "// Initializing an ArrayList filled with integers\n",
    "ArrayList<Integer> integers = new ArrayList<>(Arrays.asList(37,64,92,84,1));\n",
    "\n",
    "Collections.sort(integers);\n",
    "\n",
    "System.out.println(\"hash code: \" + integers.hashCode());\n"
   ]
  }
 ],
 "metadata": {
  "kernelspec": {
   "display_name": "Java",
   "language": "java",
   "name": "java"
  },
  "language_info": {
   "codemirror_mode": "java",
   "file_extension": ".jshell",
   "mimetype": "text/x-java-source",
   "name": "Java",
   "pygments_lexer": "java",
   "version": "11.0.16+8-post-Ubuntu-0ubuntu120.04"
  },
  "orig_nbformat": 4,
  "vscode": {
   "interpreter": {
    "hash": "916dbcbb3f70747c44a77c7bcd40155683ae19c65e1c03b4aa3499c5328201f1"
   }
  }
 },
 "nbformat": 4,
 "nbformat_minor": 2
}
