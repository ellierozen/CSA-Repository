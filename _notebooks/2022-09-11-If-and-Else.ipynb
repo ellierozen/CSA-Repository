{
 "cells": [
  {
   "cell_type": "markdown",
   "metadata": {},
   "source": [
    "# If-Else"
   ]
  },
  {
   "cell_type": "markdown",
   "metadata": {},
   "source": [
    "- If statements are condiitional statements and use booleans to enter the statement "
   ]
  },
  {
   "cell_type": "code",
   "execution_count": 23,
   "metadata": {},
   "outputs": [
    {
     "name": "stdout",
     "output_type": "stream",
     "text": [
      "It is hot\n"
     ]
    }
   ],
   "source": [
    "int temperature = 100;\n",
    "\n",
    "if (temperature >= 90)\n",
    "{\n",
    "    System.out.println(\"It is hot\");\n",
    "}"
   ]
  },
  {
   "cell_type": "markdown",
   "metadata": {},
   "source": [
    "- If-else statments execute a block of code if the condition is true, but another if the condition is false "
   ]
  },
  {
   "cell_type": "code",
   "execution_count": 27,
   "metadata": {},
   "outputs": [
    {
     "name": "stdout",
     "output_type": "stream",
     "text": [
      "It is cold\n"
     ]
    }
   ],
   "source": [
    "int temperature = 86;\n",
    "\n",
    "if (temperature >= 90)\n",
    "{\n",
    "    System.out.println(\"It is hot\");\n",
    "}\n",
    "\n",
    "else\n",
    "{\n",
    "    System.out.println(\"It is cold\");\n",
    "}"
   ]
  },
  {
   "cell_type": "markdown",
   "metadata": {},
   "source": [
    "- If-elseif-else statements provide multiple conditions of else if statements in addition to the else statement"
   ]
  },
  {
   "cell_type": "code",
   "execution_count": 26,
   "metadata": {},
   "outputs": [
    {
     "name": "stdout",
     "output_type": "stream",
     "text": [
      "It is warm\n"
     ]
    }
   ],
   "source": [
    "int temperature = 65;\n",
    "\n",
    "if (temperature >= 90)\n",
    "{\n",
    "    System.out.println(\"It is hot\");\n",
    "}\n",
    "\n",
    "else if ((60 < temperature) && (temperature < 90))\n",
    "{\n",
    "    System.out.println(\"It is warm\");\n",
    "}\n",
    "\n",
    "else\n",
    "{\n",
    "    System.out.println(\"It is cold\");\n",
    "}"
   ]
  },
  {
   "cell_type": "markdown",
   "metadata": {},
   "source": [
    "# Switch Case"
   ]
  },
  {
   "cell_type": "code",
   "execution_count": 44,
   "metadata": {},
   "outputs": [
    {
     "name": "stdout",
     "output_type": "stream",
     "text": [
      "You can drive with a parent\n"
     ]
    }
   ],
   "source": [
    "double drivingAge = 15;\n",
    "double permitAge = 15.5;\n",
    "if (drivingAge >= 16)\n",
    "{\n",
    "    System.out.println(\"You can drive\");\n",
    "}\n",
    "else if (drivingAge >= 15.5)\n",
    "{\n",
    "    System.out.println(\"You can get your permit\");\n",
    "}\n",
    "else if ((drivingAge < 16) && (permitAge < 15.5))\n",
    "{\n",
    "    System.out.println(\"You are too young to drive\");\n",
    "}\n",
    "else if ((drivingAge < 16) && (permitAge >= 15.5))\n",
    "{\n",
    "    System.out.println(\"You can drive with a parent\");\n",
    "}\n",
    "else \n",
    "{\n",
    "    System.out.println(\"Stay off the streets\");\n",
    "}"
   ]
  },
  {
   "cell_type": "code",
   "execution_count": 47,
   "metadata": {},
   "outputs": [
    {
     "name": "stdout",
     "output_type": "stream",
     "text": [
      "You can get your license\n"
     ]
    }
   ],
   "source": [
    "int drivingAge = 16;\n",
    "\n",
    "switch(drivingAge)\n",
    "{\n",
    "    case 0:\n",
    "    System.out.println(\"You were just born\");\n",
    "    break;\n",
    "\n",
    "    case 15:\n",
    "    System.out.println(\"You can get your permit\");\n",
    "    break;\n",
    "\n",
    "    case 16:\n",
    "    System.out.println(\"You can get your license\");\n",
    "    break;\n",
    "\n",
    "    case 18:\n",
    "    System.out.println(\"You can get a vertical license\");\n",
    "    break;\n",
    "\n",
    "    case 100:\n",
    "    System.out.println(\"This seems a little dangerous to be driving\");\n",
    "    break;\n",
    "\n",
    "    default:\n",
    "    System.out.println(\"I'm not sure\");\n",
    "    break;\n",
    "}"
   ]
  },
  {
   "cell_type": "markdown",
   "metadata": {},
   "source": [
    "# De Morgans Law"
   ]
  },
  {
   "cell_type": "markdown",
   "metadata": {},
   "source": [
    "- De Morgans law lits multiple conditions that need to be met to enter the code block\n",
    "- Uses the operands AND, OR and NOT and two input variables, A and B"
   ]
  },
  {
   "cell_type": "code",
   "execution_count": 51,
   "metadata": {},
   "outputs": [
    {
     "name": "stdout",
     "output_type": "stream",
     "text": [
      "True code block\n",
      "True code block\n",
      "True or False code block\n",
      "true or false\n"
     ]
    }
   ],
   "source": [
    "boolean a = true;\n",
    "boolean b = false;\n",
    "if (a) {\n",
    "    System.out.println(\"True code block\");\n",
    "}\n",
    "\n",
    "if (a && !b) {\n",
    "    System.out.println(\"True code block\");\n",
    "}\n",
    "\n",
    "if (a || b) {\n",
    "    System.out.println(\"True or False code block\");\n",
    "}\n",
    "\n",
    "if ((a && !b) && (a || a)) {\n",
    "    System.out.println(\"true or false\");\n",
    "}\n",
    "\n",
    "if (!a && b ) {\n",
    "    System.out.println(\"False code block\");\n",
    "}\n"
   ]
  }
 ],
 "metadata": {
  "kernelspec": {
   "display_name": "Java",
   "language": "java",
   "name": "java"
  },
  "language_info": {
   "codemirror_mode": "java",
   "file_extension": ".jshell",
   "mimetype": "text/x-java-source",
   "name": "java",
   "pygments_lexer": "java",
   "version": "11.0.16+8-post-Ubuntu-0ubuntu120.04"
  },
  "orig_nbformat": 4
 },
 "nbformat": 4,
 "nbformat_minor": 2
}
