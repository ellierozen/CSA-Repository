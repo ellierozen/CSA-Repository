{
 "cells": [
  {
   "attachments": {},
   "cell_type": "markdown",
   "metadata": {},
   "source": [
    "## Classes and Objects \n",
    "- constructors have parameters \n",
    "- accessor methods return a value they dont have a void \n",
    "- mutator methods change the state of an object \n",
    "\n",
    "constucting an object using a class \n",
    "- person teacher = new perseon(\"mr.s, 39, ohio\");\n",
    "- class object name     class     parameters \n",
    "- when calling : object.method(); ie: student.getName(); will reutrn the students name \n",
    "\n",
    "usings static methods \n",
    "- math class provides static methods that we use through class.methdo();\n",
    "- ie: (Math.abs(-45)); will print 45 \n",
    "\n",
    "using string class objects \n",
    "- string word = \"theater\"; \n",
    "- index values:  0123456\n",
    "- using object.method nota tion : (word.length());"
   ]
  }
 ],
 "metadata": {
  "kernelspec": {
   "display_name": "Java",
   "language": "java",
   "name": "java"
  },
  "language_info": {
   "codemirror_mode": "java",
   "file_extension": ".jshell",
   "mimetype": "text/x-java-source",
   "name": "Java",
   "pygments_lexer": "java",
   "version": "17.0.2+8-86"
  },
  "orig_nbformat": 4
 },
 "nbformat": 4,
 "nbformat_minor": 2
}
