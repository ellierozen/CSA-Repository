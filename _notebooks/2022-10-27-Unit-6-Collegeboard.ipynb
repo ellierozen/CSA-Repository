{
 "cells": [
  {
   "cell_type": "markdown",
   "metadata": {},
   "source": [
    "# Unit 6 Collegboard Arrays "
   ]
  },
  {
   "cell_type": "markdown",
   "metadata": {},
   "source": [
    "*arrays* \n",
    "-array: type of data structure \n",
    "-array and arrayLists are different \n",
    "-ex of declaration: int [] array = new int [10]; \n",
    "-common errors:\n",
    " - bound error: trying to access a variable that doesnt exist\n",
    " -uninitialized and unfiled arrays \n",
    "-traverse an array: use any sort of loop but for loops are easiest to access \n",
    " - int i=0; i<array.length; i++"
   ]
  },
  {
   "cell_type": "code",
   "execution_count": null,
   "metadata": {},
   "outputs": [],
   "source": [
    "public class ArrayMethods\n",
    "{\n",
    "    private int [] values; \n",
    "    public ArrayMethods (int[] initialValues)\n",
    "    {\n",
    "        values = initalValues;\n",
    "    }\n",
    "\n",
    "    public void swapFirstAndLast\n",
    "    {\n",
    "        int[] array = new int[5];\n",
    "        double temp = array[0]\n",
    "        array[0] = array[5] \n",
    "    }\n",
    "\n",
    "    public void allZero\n",
    "    {\n",
    "        \n",
    "    }\n",
    "\n",
    "}"
   ]
  }
 ],
 "metadata": {
  "kernelspec": {
   "display_name": "Java",
   "language": "java",
   "name": "java"
  },
  "language_info": {
   "name": "java"
  },
  "orig_nbformat": 4
 },
 "nbformat": 4,
 "nbformat_minor": 2
}
