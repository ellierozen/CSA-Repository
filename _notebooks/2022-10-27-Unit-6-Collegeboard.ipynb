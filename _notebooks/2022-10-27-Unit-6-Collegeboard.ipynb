{
 "cells": [
  {
   "cell_type": "markdown",
   "metadata": {},
   "source": [
    "# Unit 6 Collegboard Arrays "
   ]
  },
  {
   "cell_type": "markdown",
   "metadata": {},
   "source": [
    "*arrays* \n",
    "-array: type of data structure \n",
    "-array and arrayLists are different \n",
    "-ex of declaration: int [] array = new int [10]; \n",
    "    - other ways:\n",
    "    - final int length = 10, int[] numbers = new int \n",
    "    - int length = in.nextInt();, double[] data = new double[length]\n",
    "    - int[squares]= {0,1,2,3,4}\n",
    "\n",
    "-common errors:\n",
    " - bound error: trying to access a variable that doesnt exist\n",
    " -uninitialized and unfiled arrays \n",
    "-traverse an array: use any sort of loop but for loops are easiest to access \n",
    " - int i=0; i<array.length; i++\n",
    " - enhanced for loops -- can use basic for loop to visit all elements in an array "
   ]
  },
  {
   "attachments": {},
   "cell_type": "markdown",
   "metadata": {},
   "source": [
    "### vocab \n",
    "- enahnced for loops - the header includes a variable referred to as the enhanced for variable -- assigning a new value to the enhanced for loop does not change the value stored in the array \n",
    "\n"
   ]
  },
  {
   "cell_type": "code",
   "execution_count": 9,
   "metadata": {},
   "outputs": [
    {
     "name": "stdout",
     "output_type": "stream",
     "text": [
      "Swapping elements:\n",
      "5\n",
      "2\n",
      "3\n",
      "4\n",
      "1\n",
      "Replacing elements with zero:\n",
      "0\n",
      "0\n",
      "0\n",
      "0\n",
      "0\n",
      "are the orginal values sorted in increasing order?\n",
      "true\n"
     ]
    }
   ],
   "source": [
    "public class Array\n",
    "{\n",
    "    private static int [] values = {1,2,3,4,5};\n",
    "\n",
    "    public void printValues(){\n",
    "        for(int i = 0; i < values.length; i++){\n",
    "            System.out.println(values[i]);\n",
    "        }\n",
    "\n",
    "    }\n",
    "\n",
    "\n",
    "    public void swapFirstAndLast()\n",
    "    {\n",
    "        int lastElement = values[values.length-1];\n",
    "        values[values.length-1] = values[0];\n",
    "        values[0] = lastElement;\n",
    "    }\n",
    "\n",
    "    public void allZero()\n",
    "    {\n",
    "        for(int i=0; i < values.length; i++){\n",
    "            values[i] = 0;\n",
    "        }\n",
    "        \n",
    "    }\n",
    "\n",
    "    public static boolean isSorted(int[] a) {\n",
    "       \n",
    "        for (int i = 0; i < a.length - 1; i++) {\n",
    "            if (a[i] > a[i + 1]) {\n",
    "                return false; \n",
    "            }\n",
    "        }\n",
    "    \n",
    "        return true; \n",
    "    }\n",
    "    \n",
    "\n",
    "    public static void main(String[] args){\n",
    "        System.out.println(\"Swapping elements:\");\n",
    "        Array swapFirstAndLast = new Array();\n",
    "        swapFirstAndLast.swapFirstAndLast();\n",
    "        swapFirstAndLast.printValues();\n",
    "\n",
    "        System.out.println(\"Replacing elements with zero:\");\n",
    "        Array allZero = new Array();\n",
    "        allZero.allZero();\n",
    "        allZero.printValues();\n",
    "\n",
    "        System.out.println(\"are the orginal values sorted in increasing order?\");\n",
    "        System.out.println(isSorted(values));\n",
    "\n",
    "\n",
    "    }\n",
    "\n",
    "\n",
    "}\n",
    "\n",
    "Array.main(null);"
   ]
  }
 ],
 "metadata": {
  "kernelspec": {
   "display_name": "Java",
   "language": "java",
   "name": "java"
  },
  "language_info": {
   "codemirror_mode": "java",
   "file_extension": ".jshell",
   "mimetype": "text/x-java-source",
   "name": "java",
   "pygments_lexer": "java",
   "version": "11.0.16+8-post-Ubuntu-0ubuntu120.04"
  },
  "orig_nbformat": 4
 },
 "nbformat": 4,
 "nbformat_minor": 2
}
