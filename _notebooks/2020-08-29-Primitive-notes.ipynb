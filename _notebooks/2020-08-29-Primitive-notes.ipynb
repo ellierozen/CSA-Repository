{
 "cells": [
  {
   "cell_type": "markdown",
   "metadata": {},
   "source": [
    "Primitives\n",
    "Data type with upper case is a wrapper but with lower case is a primitive\n",
    "Wrapper class has methods (built in code) \n",
    "\n",
    "Images\n",
    "Put two squiggles and site base url in front of images \n",
    "\n",
    "Bash\n",
    "Used for scripting \n",
    "Echo command- basically print statement for python \n",
    "Environment \n",
    "Tools set up guide and look for things to know right things are installed on machine \n",
    "Java- strong code j\n",
    "Puthon- weak code\n",
    "\n",
    "Primitives\n",
    "Data type with upper case is a wrapper but with lower case is a primitive\n",
    "Wrapper class has methods (built in code)\n"
   ]
  }
 ],
 "metadata": {
  "language_info": {
   "name": "python"
  },
  "orig_nbformat": 4
 },
 "nbformat": 4,
 "nbformat_minor": 2
}
