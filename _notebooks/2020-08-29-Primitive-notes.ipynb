{
 "cells": [
  {
   "cell_type": "markdown",
   "metadata": {},
   "source": [
    "# Primitives Notes \n"
   ]
  },
  {
   "cell_type": "markdown",
   "metadata": {},
   "source": [
    "Primitives\n",
    "Data type with upper case is a wrapper but with lower case is a primitive\n",
    "Wrapper class has methods (built in code) \n",
    "\n",
    "Images\n",
    "Put two squiggles and site base url in front of images \n",
    "\n",
    "Bash\n",
    "Used for scripting \n",
    "Echo command- basically print statement for python \n",
    "Environment \n",
    "Tools set up guide and look for things to know right things are installed on machine \n",
    "Java- strong code j\n",
    "Puthon- weak code\n",
    "\n",
    "Primitives\n",
    "Data type with upper case is a wrapper but with lower case is a primitive\n",
    "Wrapper class has methods (built in code)"
   ]
  }
 ],
 "metadata": {
  "kernelspec": {
   "display_name": "Python 3.8.10 64-bit",
   "language": "python",
   "name": "python3"
  },
  "language_info": {
   "name": "python",
   "version": "3.8.10"
  },
  "orig_nbformat": 4,
  "vscode": {
   "interpreter": {
    "hash": "916dbcbb3f70747c44a77c7bcd40155683ae19c65e1c03b4aa3499c5328201f1"
   }
  }
 },
 "nbformat": 4,
 "nbformat_minor": 2
}
