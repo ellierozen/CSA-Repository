{
 "cells": [
  {
   "cell_type": "markdown",
   "metadata": {},
   "source": [
    "# Tri 1 Final "
   ]
  },
  {
   "cell_type": "markdown",
   "metadata": {},
   "source": [
    "## Reflection\n",
    "\n",
    "![](images/2014-collegeboard.png)\n",
    "\n",
    "- a big part of this score I believe was that I got lucky on my guesses to the ones which I was unsure of. In addition to that, I did not do the mc in one sitting, which means I was in a much more relaxed enviornment than I would be for the actual AP exam. \n"
   ]
  },
  {
   "cell_type": "markdown",
   "metadata": {},
   "source": [
    "## Corrections \n",
    "![](images/q-14.png)\n",
    "\n",
    "- k is supposed to start at 1 and then increase at increments at 1 which is one of the most obvious reasons why the answer was supposed to be A\n",
    "\n",
    "![](images/q-39.png)\n",
    "\n",
    "- I did the recrur step twice but after I needed to keeping running through the loop until the value was less or eqaul to 10, which means I need to put 18 into the else step\n"
   ]
  },
  {
   "cell_type": "markdown",
   "metadata": {},
   "source": [
    "## Guessed \n",
    "\n",
    "![](images/q-19.png)\n",
    "\n",
    "- My answer for this question was D so I am not sure how it ended up being submitted as B (probably misclick)\n",
    "- When DeMorgans law is applied the and operator turns into the or operator, and vise versa\n",
    "- My expressions in the parentheses are correct \n",
    "\n",
    "![](images/q-25.png)\n",
    "\n",
    "- I wasnt sure between 1 and 2 which one was right and wrong, but I knew 3 was not right because in order to determine fit the depth and width need to be known of the individual boxes\n",
    "\n",
    "![](images/q-13.png)\n",
    "\n",
    "- I initially wanted to put E as my answer but then I realized that the very first iteration would be 1-1 so it would start with 0, and then go to 7\n",
    "- I wasn't sure between B and C but I guessed B \n",
    "- The reason why it is B is because at the end the last value is 0, which is not greater than the arr5 (10), so the loop would terminate \n",
    "\n",
    "\n",
    "- I believe I had a few other problems bookmarked but the symbol goes away once submitted so it is hard to go back and see which ones I was unsure about "
   ]
  }
 ],
 "metadata": {
  "kernelspec": {
   "display_name": "Python 3.8.10 64-bit",
   "language": "python",
   "name": "python3"
  },
  "language_info": {
   "name": "python",
   "version": "3.8.10"
  },
  "orig_nbformat": 4,
  "vscode": {
   "interpreter": {
    "hash": "916dbcbb3f70747c44a77c7bcd40155683ae19c65e1c03b4aa3499c5328201f1"
   }
  }
 },
 "nbformat": 4,
 "nbformat_minor": 2
}
