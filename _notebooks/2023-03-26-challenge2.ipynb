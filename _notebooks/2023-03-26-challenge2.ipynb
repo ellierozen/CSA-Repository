{
 "cells": [
  {
   "attachments": {},
   "cell_type": "markdown",
   "metadata": {},
   "source": [
    "# Challenge 2 Merge combinations of two ques "
   ]
  },
  {
   "cell_type": "code",
   "execution_count": 1,
   "metadata": {},
   "outputs": [
    {
     "name": "stdout",
     "output_type": "stream",
     "text": [
      "Queue: 1 2 3 4 5 6 \n",
      "Queue: 7 8 9 10 11 12 \n",
      "Queue: 1 2 3 4 5 6 7 8 9 10 11 12 \n"
     ]
    }
   ],
   "source": [
    "import java.util.LinkedList;\n",
    "import java.util.Queue;\n",
    "\n",
    "public class QueueMerger {\n",
    "    \n",
    "    public Queue<Integer> mergeQueues(Queue<Integer> a, Queue<Integer> b) {\n",
    "        Queue<Integer> mergedQueue = new LinkedList<Integer>();\n",
    "        // gets peeks of each queue if both are not empty\n",
    "        while (a.peek() != null && b.peek() != null) { //!a.isEmpty() && !b.isEmpty()) { needed to define is empty in t but having problems \n",
    "\n",
    "\n",
    "            if (a.peek() < b.peek()) {\n",
    "                mergedQueue.add(a.peek());\n",
    "                a.remove();\n",
    "            } \n",
    "            else {\n",
    "                mergedQueue.add(b.peek());\n",
    "                b.remove();\n",
    "            }\n",
    "        }\n",
    "        // if b is empty but a is not add the first element to the new merged queue and removes the non empty \n",
    "        while (a.peek() != null) {\n",
    "           mergedQueue.add(a.peek());\n",
    "           a.remove();\n",
    "        }\n",
    "        // if a is empty but b is not add the first element to the new merged queue and removes the non empty \n",
    "        while (b.peek() != null) {\n",
    "            mergedQueue.add(b.peek());\n",
    "            b.remove();\n",
    "        }\n",
    "\n",
    "        return mergedQueue;\n",
    "    }\n",
    "\n",
    "    public void printQueue(Queue<Integer> queue) {\n",
    "        System.out.print(\"Queue: \");\n",
    "        for (Integer addedNums : queue)\n",
    "            System.out.print(addedNums + \" \");\n",
    "        System.out.println();\n",
    "    }\n",
    "    \n",
    "    public static void main(String[] args) {\n",
    "        // add numbers for two queues to merge \n",
    "        Queue<Integer> queue1 = new LinkedList<Integer>();\n",
    "        Queue<Integer> queue2 = new LinkedList<Integer>();\n",
    "\n",
    "        // add objects to queue and print both\n",
    "        queue1.add(1); //check to make sure no mistakes in the middle mix up and instead \n",
    "        queue1.add(2);\n",
    "        queue1.add(3);\n",
    "        queue1.add(4);\n",
    "        queue1.add(5);\n",
    "        queue1.add(6);\n",
    "        queue2.add(7);\n",
    "        queue2.add(8);\n",
    "        queue2.add(9);\n",
    "        queue2.add(10);\n",
    "        queue2.add(11);\n",
    "        queue2.add(12);\n",
    "        \n",
    "\n",
    "        // merge queues\n",
    "        QueueMerger mergingQueues= new QueueMerger();\n",
    "        //print the first queues to display\n",
    "        mergingQueues.printQueue(queue1); // or use qm to be more precise with previous code but i merging queues makes more sense to me \n",
    "        mergingQueues.printQueue(queue2);\n",
    "\n",
    "        Queue<Integer> merged = mergingQueues.mergeQueues(queue1, queue2);\n",
    "\n",
    "        // print merged queue\n",
    "        mergingQueues.printQueue(merged);\n",
    "    }\n",
    "}\n",
    "\n",
    "QueueMerger.main(null);"
   ]
  }
 ],
 "metadata": {
  "kernelspec": {
   "display_name": "Java",
   "language": "java",
   "name": "java"
  },
  "language_info": {
   "codemirror_mode": "java",
   "file_extension": ".jshell",
   "mimetype": "text/x-java-source",
   "name": "java",
   "pygments_lexer": "java",
   "version": "17.0.2+8-86"
  },
  "orig_nbformat": 4
 },
 "nbformat": 4,
 "nbformat_minor": 2
}
