{
 "cells": [
  {
   "cell_type": "markdown",
   "metadata": {},
   "source": [
    "# Bash Checks "
   ]
  },
  {
   "cell_type": "code",
   "execution_count": 11,
   "metadata": {
    "vscode": {
     "languageId": "shellscript"
    }
   },
   "outputs": [
    {
     "name": "stdout",
     "output_type": "stream",
     "text": [
      "Using conditional statement to create a project directory and project\n",
      "Directory /home/ellier/vscode exists.\n",
      "Directory /home/ellier/vscode/APCSP exists.\n"
     ]
    }
   ],
   "source": [
    "echo \"Using conditional statement to create a project directory and project\"\n",
    "\n",
    "# Variable section\n",
    "export project_dir=$HOME/vscode  # change vscode to different name to test git clone\n",
    "export project=$project_dir/APCSP  # change APCSP to name of project from git clone\n",
    "export project_repo=\"https://github.com/nighthawkcoders/APCSP.git\"  # change to project of choice\n",
    "\n",
    "cd ~    # start in home directory\n",
    "\n",
    "# Conditional block to make a project directory\n",
    "if [ ! -d $project_dir ]\n",
    "then \n",
    "    echo \"Directory $project_dir does not exists... makinng directory $project_dir\"\n",
    "    mkdir -p $project_dir\n",
    "fi\n",
    "echo \"Directory $project_dir exists.\" \n",
    "\n",
    "# Conditional block to git clone a project from project_repo\n",
    "if [ ! -d $project ]\n",
    "then\n",
    "    echo \"Directory $project does not exists... cloning $project_repo\"\n",
    "    cd $project_dir\n",
    "    git clone $project_repo\n",
    "    cd ~\n",
    "fi\n",
    "echo \"Directory $project exists.\""
   ]
  },
  {
   "cell_type": "code",
   "execution_count": 12,
   "metadata": {
    "vscode": {
     "languageId": "shellscript"
    }
   },
   "outputs": [
    {
     "name": "stdout",
     "output_type": "stream",
     "text": [
      "Navigate to project, then navigate to area wwhere files were cloned\n",
      "/home/ellier/vscode/APCSP\n",
      "\n",
      "list top level or root of files with project pulled from github\n",
      "\u001b[0m\u001b[01;32mGemfile\u001b[0m    \u001b[01;34m_action_files\u001b[0m    \u001b[01;34m_layouts\u001b[0m    \u001b[01;34m_posts\u001b[0m  \u001b[01;32mdocker-compose.yml\u001b[0m\n",
      "LICENSE    _config.yml      \u001b[01;34m_notebooks\u001b[0m  \u001b[01;34m_sass\u001b[0m   \u001b[01;34mimages\u001b[0m\n",
      "\u001b[01;32mMakefile\u001b[0m   \u001b[01;34m_fastpages_docs\u001b[0m  \u001b[01;34m_pages\u001b[0m      \u001b[01;34m_word\u001b[0m   index.html\n",
      "\u001b[01;32mREADME.md\u001b[0m  \u001b[01;34m_includes\u001b[0m        \u001b[01;34m_plugins\u001b[0m    \u001b[01;34massets\u001b[0m  \u001b[01;34mpython\u001b[0m\n",
      "\n",
      "list again with hidden files pulled from github\n",
      "\u001b[0m\u001b[01;34m.\u001b[0m                   .gitignore  \u001b[01;34m_action_files\u001b[0m    \u001b[01;34m_pages\u001b[0m    \u001b[01;32mdocker-compose.yml\u001b[0m\n",
      "\u001b[01;34m..\u001b[0m                  \u001b[01;34m.vscode\u001b[0m     _config.yml      \u001b[01;34m_plugins\u001b[0m  \u001b[01;34mimages\u001b[0m\n",
      ".devcontainer.json  \u001b[01;32mGemfile\u001b[0m     \u001b[01;34m_fastpages_docs\u001b[0m  \u001b[01;34m_posts\u001b[0m    index.html\n",
      "\u001b[01;34m.git\u001b[0m                LICENSE     \u001b[01;34m_includes\u001b[0m        \u001b[01;34m_sass\u001b[0m     \u001b[01;34mpython\u001b[0m\n",
      ".gitattributes      \u001b[01;32mMakefile\u001b[0m    \u001b[01;34m_layouts\u001b[0m         \u001b[01;34m_word\u001b[0m\n",
      "\u001b[01;34m.github\u001b[0m             \u001b[01;32mREADME.md\u001b[0m   \u001b[01;34m_notebooks\u001b[0m       \u001b[01;34massets\u001b[0m\n",
      "\n",
      "list all files in long format\n",
      "total 120\n",
      "drwxr-xr-x 18 ellier ellier  4096 Aug 25 08:51 \u001b[0m\u001b[01;34m.\u001b[0m\n",
      "drwxr-xr-x  5 ellier ellier  4096 Aug 25 08:51 \u001b[01;34m..\u001b[0m\n",
      "-rw-r--r--  1 ellier ellier   420 Aug 25 08:51 .devcontainer.json\n",
      "drwxr-xr-x  8 ellier ellier  4096 Aug 25 08:51 \u001b[01;34m.git\u001b[0m\n",
      "-rw-r--r--  1 ellier ellier    84 Aug 25 08:51 .gitattributes\n",
      "drwxr-xr-x  4 ellier ellier  4096 Aug 25 08:51 \u001b[01;34m.github\u001b[0m\n",
      "-rw-r--r--  1 ellier ellier   917 Aug 25 08:51 .gitignore\n",
      "drwxr-xr-x  2 ellier ellier  4096 Aug 25 08:51 \u001b[01;34m.vscode\u001b[0m\n",
      "-rwxr-xr-x  1 ellier ellier  1304 Aug 25 08:51 \u001b[01;32mGemfile\u001b[0m\n",
      "-rw-r--r--  1 ellier ellier 11351 Aug 25 08:51 LICENSE\n",
      "-rwxr-xr-x  1 ellier ellier  1422 Aug 25 08:51 \u001b[01;32mMakefile\u001b[0m\n",
      "-rwxr-xr-x  1 ellier ellier  3614 Aug 25 08:51 \u001b[01;32mREADME.md\u001b[0m\n",
      "drwxr-xr-x  2 ellier ellier  4096 Aug 25 08:51 \u001b[01;34m_action_files\u001b[0m\n",
      "-rw-r--r--  1 ellier ellier  3716 Aug 25 08:51 _config.yml\n",
      "drwxr-xr-x  2 ellier ellier  4096 Aug 25 08:51 \u001b[01;34m_fastpages_docs\u001b[0m\n",
      "drwxr-xr-x  2 ellier ellier  4096 Aug 25 08:51 \u001b[01;34m_includes\u001b[0m\n",
      "drwxr-xr-x  2 ellier ellier  4096 Aug 25 08:51 \u001b[01;34m_layouts\u001b[0m\n",
      "drwxr-xr-x  3 ellier ellier  4096 Aug 25 08:51 \u001b[01;34m_notebooks\u001b[0m\n",
      "drwxr-xr-x  2 ellier ellier  4096 Aug 25 08:51 \u001b[01;34m_pages\u001b[0m\n",
      "drwxr-xr-x  2 ellier ellier  4096 Aug 25 08:51 \u001b[01;34m_plugins\u001b[0m\n",
      "drwxr-xr-x  2 ellier ellier  4096 Aug 25 08:51 \u001b[01;34m_posts\u001b[0m\n",
      "drwxr-xr-x  3 ellier ellier  4096 Aug 25 08:51 \u001b[01;34m_sass\u001b[0m\n",
      "drwxr-xr-x  2 ellier ellier  4096 Aug 25 08:51 \u001b[01;34m_word\u001b[0m\n",
      "drwxr-xr-x  4 ellier ellier  4096 Aug 25 08:51 \u001b[01;34massets\u001b[0m\n",
      "-rwxr-xr-x  1 ellier ellier  1136 Aug 25 08:51 \u001b[01;32mdocker-compose.yml\u001b[0m\n",
      "drwxr-xr-x  5 ellier ellier  4096 Aug 25 08:51 \u001b[01;34mimages\u001b[0m\n",
      "-rw-r--r--  1 ellier ellier  1061 Aug 25 08:51 index.html\n",
      "drwxr-xr-x  2 ellier ellier  4096 Aug 25 08:51 \u001b[01;34mpython\u001b[0m\n"
     ]
    }
   ],
   "source": [
    "echo \"Navigate to project, then navigate to area wwhere files were cloned\"\n",
    "cd $project\n",
    "pwd\n",
    "\n",
    "echo \"\"\n",
    "echo \"list top level or root of files with project pulled from github\"\n",
    "ls\n",
    "\n",
    "echo \"\"\n",
    "echo \"list again with hidden files pulled from github\"\n",
    "ls -a   # hidden files flag, many shell commands have flags\n",
    "\n",
    "echo \"\"\n",
    "echo \"list all files in long format\"\n",
    "ls -al   # all files and long listing"
   ]
  },
  {
   "cell_type": "code",
   "execution_count": 13,
   "metadata": {
    "vscode": {
     "languageId": "shellscript"
    }
   },
   "outputs": [
    {
     "name": "stdout",
     "output_type": "stream",
     "text": [
      "Look for posts\n",
      "/home/ellier/vscode/APCSP/_posts\n",
      "total 228\n",
      "-rw-r--r-- 1 ellier ellier 21306 Aug 25 08:51 2022-06-01-TT160-deploy.md\n",
      "-rw-r--r-- 1 ellier ellier  5861 Aug 25 08:51 2022-07-07-PBL-binary.md\n",
      "-rw-r--r-- 1 ellier ellier  3085 Aug 25 08:51 2022-07-08-PBL-grade_calc.md\n",
      "-rw-r--r-- 1 ellier ellier  3698 Aug 25 08:51 2022-07-08-PBL-graph.md\n",
      "-rw-r--r-- 1 ellier ellier  5729 Aug 25 08:51 2022-07-08-PBL-life.md\n",
      "-rw-r--r-- 1 ellier ellier 14387 Aug 25 08:51 2022-07-08-PBL-snake.md\n",
      "-rw-r--r-- 1 ellier ellier   334 Aug 25 08:51 2022-07-10-PBL-database.md\n",
      "-rw-r--r-- 1 ellier ellier  2908 Aug 25 08:51 2022-07-10-PBL-jokes.md\n",
      "-rw-r--r-- 1 ellier ellier  4046 Aug 25 08:51 2022-07-10-PBL-rapidapi.md\n",
      "-rw-r--r-- 1 ellier ellier  6685 Aug 25 08:51 2022-07-19-PBL-calculator.md\n",
      "-rw-r--r-- 1 ellier ellier 23325 Aug 25 08:51 2022-07-25-CSP-workshop.md\n",
      "-rw-r--r-- 1 ellier ellier  2333 Aug 25 08:51 2022-08-15-TP000-student_score_history.md\n",
      "-rw-r--r-- 1 ellier ellier  4363 Aug 25 08:51 2022-08-15-TP100-pseudo_code.md\n",
      "-rw-r--r-- 1 ellier ellier  7968 Aug 25 08:51 2022-08-15-TR100-tool_setup.md\n",
      "-rw-r--r-- 1 ellier ellier 15026 Aug 25 08:51 2022-08-15-TT100-tools.md\n",
      "-rw-r--r-- 1 ellier ellier  5590 Aug 25 08:51 2022-08-15-TT101-vscode-wsl.md\n",
      "-rw-r--r-- 1 ellier ellier  2155 Aug 25 08:51 2022-08-22-TR110-intro_python.md\n",
      "-rw-r--r-- 1 ellier ellier  5173 Aug 25 08:51 2022-08-22-TT110-fastpages.md\n",
      "-rw-r--r-- 1 ellier ellier  2798 Aug 25 08:51 2022-08-22-TT110-focus.md\n",
      "-rw-r--r-- 1 ellier ellier  2737 Aug 25 08:51 2022-08-29-TR120-data_abstract.md\n",
      "-rw-r--r-- 1 ellier ellier 10683 Aug 25 08:51 2022-08-29-TT120-agile.md\n",
      "-rw-r--r-- 1 ellier ellier  4498 Aug 25 08:51 2022-08-29-TT120-html_fragments.md\n",
      "-rw-r--r-- 1 ellier ellier  9037 Aug 25 08:51 2022-09-05-TP130-create_performance_task.md\n",
      "-rw-r--r-- 1 ellier ellier  7753 Aug 25 08:51 2022-09-05-TP131-create-task-bria.md\n",
      "-rw-r--r-- 1 ellier ellier  8066 Aug 25 08:51 2022-09-05-TR130-creative_development.md\n",
      "-rw-r--r-- 1 ellier ellier  3520 Aug 25 08:51 2022-09-05-TT130-applab.md\n",
      "-rw-r--r-- 1 ellier ellier   720 Aug 25 08:51 README.md\n"
     ]
    }
   ],
   "source": [
    "echo \"Look for posts\"\n",
    "export posts=$project/_posts  # _posts inside project\n",
    "cd $posts  # this should exist per fastpages\n",
    "pwd  # present working directory\n",
    "ls -l  # list posts"
   ]
  },
  {
   "cell_type": "code",
   "execution_count": 14,
   "metadata": {
    "vscode": {
     "languageId": "shellscript"
    }
   },
   "outputs": [
    {
     "name": "stdout",
     "output_type": "stream",
     "text": [
      "Look for notebooks\n",
      "/home/ellier/vscode/APCSP/_notebooks\n",
      "total 144\n",
      "-rw-r--r-- 1 ellier ellier 14243 Aug 25 08:51 2022-06-01-TT150-webapi_tutorial.ipynb\n",
      "-rw-r--r-- 1 ellier ellier  8653 Aug 25 08:51 2022-07-21-PBL-neo4j_intro.ipynb\n",
      "-rw-r--r-- 1 ellier ellier 11694 Aug 25 08:51 2022-08-22-TP110-python_hello.ipynb\n",
      "-rw-r--r-- 1 ellier ellier 20003 Aug 25 08:51 2022-08-22-TT110-anthony_and_sahil.ipynb\n",
      "-rw-r--r-- 1 ellier ellier  9525 Aug 25 08:51 2022-08-22-TT110-bash_tutorial.ipynb\n",
      "-rw-r--r-- 1 ellier ellier 35721 Aug 25 08:51 2022-08-25-tool_check.ipynb\n",
      "-rw-r--r-- 1 ellier ellier 10141 Aug 25 08:51 2022-08-29-TP120-python_lists.ipynb\n",
      "-rw-r--r-- 1 ellier ellier 12632 Aug 25 08:51 2022-09-05-TT130-js_tutorial.ipynb\n",
      "-rw-r--r-- 1 ellier ellier   771 Aug 25 08:51 README.md\n",
      "drwxr-xr-x 2 ellier ellier  4096 Aug 25 08:51 \u001b[0m\u001b[01;34mimages\u001b[0m\n"
     ]
    }
   ],
   "source": [
    "echo \"Look for notebooks\"\n",
    "export notebooks=$project/_notebooks  # _notebooks is inside project\n",
    "cd $notebooks   # this should exist per fastpages\n",
    "pwd  # present working directory\n",
    "ls -l  # list notebooks"
   ]
  },
  {
   "cell_type": "code",
   "execution_count": 15,
   "metadata": {
    "vscode": {
     "languageId": "shellscript"
    }
   },
   "outputs": [
    {
     "name": "stdout",
     "output_type": "stream",
     "text": [
      "Look for images in notebooks, print working directory, list files\n",
      "/home/ellier/vscode/APCSP/_notebooks/images\n",
      "total 100\n",
      "-rw-r--r-- 1 ellier ellier 101617 Aug 25 08:51 \u001b[0m\u001b[01;35mkernels.png\u001b[0m\n"
     ]
    }
   ],
   "source": [
    "echo \"Look for images in notebooks, print working directory, list files\"\n",
    "cd $notebooks/images  # this should exist per fastpages\n",
    "pwd\n",
    "ls -l"
   ]
  },
  {
   "cell_type": "code",
   "execution_count": 16,
   "metadata": {
    "vscode": {
     "languageId": "shellscript"
    }
   },
   "outputs": [
    {
     "name": "stdout",
     "output_type": "stream",
     "text": [
      "Navigate to project, then navigate to area wwhere files were cloned\n",
      "show the contents of README.md\n",
      "\n",
      "[//]: # (This template replaces README.md when someone creates a new repo with the fastpages template.)\n",
      "\n",
      "![](https://github.com/nighthawkcoders/APCSP/workflows/CI/badge.svg) \n",
      "![](https://github.com/nighthawkcoders/APCSP/workflows/GH-Pages%20Status/badge.svg) \n",
      "[![](https://img.shields.io/static/v1?label=fastai&message=fastpages&color=57aeac&labelColor=black&style=flat&logo=data:image/png;base64,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)](https://github.com/fastai/fastpages)\n",
      "\n",
      "https://nighthawkcoders.github.io/APCSP/\n",
      "\n",
      "# My Blog\n",
      "\n",
      "\n",
      "_powered by [fastpages](https://github.com/fastai/fastpages)_\n",
      "\n",
      "\n",
      "## What To Do Next?\n",
      "\n",
      "Great!  You have setup your repo.  Now its time to start writing content.  Some helpful links:\n",
      "\n",
      "- [Writing Blogs With Jupyter](https://github.com/fastai/fastpages#writing-blog-posts-with-jupyter)\n",
      "\n",
      "- [Writing Blogs With Markdown](https://github.com/fastai/fastpages#writing-blog-posts-with-markdown)\n",
      "\n",
      "- [Writing Blog Posts With Word](https://github.com/fastai/fastpages#writing-blog-posts-with-microsoft-word)\n",
      "\n",
      "- [(Optional) Preview Your Blog Locally](_fastpages_docs/DEVELOPMENT.md)\n",
      "\n",
      "Note: you may want to remove example blog posts from the `_posts`,  `_notebooks` or `_word` folders (but leave them empty, don't delete these folders) if you don't want these blog posts to appear on your site.\n",
      "\n",
      "Please use the [nbdev & blogging channel](https://forums.fast.ai/c/fastai-users/nbdev/48) in the fastai forums for any questions or feature requests.\n",
      "\n",
      "end of README.md\n"
     ]
    }
   ],
   "source": [
    "echo \"Navigate to project, then navigate to area wwhere files were cloned\"\n",
    "\n",
    "cd $project\n",
    "echo \"show the contents of README.md\"\n",
    "echo \"\"\n",
    "\n",
    "cat README.md  # show contents of file, in this case markdown\n",
    "echo \"\"\n",
    "echo \"end of README.md\""
   ]
  },
  {
   "cell_type": "code",
   "execution_count": 17,
   "metadata": {
    "vscode": {
     "languageId": "shellscript"
    }
   },
   "outputs": [
    {
     "name": "stdout",
     "output_type": "stream",
     "text": [
      "Show the shell environment variables, key on left of equal value on right\n",
      "\n",
      "SHELL=/bin/bash\n",
      "PYTHONUNBUFFERED=1\n",
      "project=/home/ellier/vscode/APCSP\n",
      "CONDA_EXE=/home/ellier/anaconda3/bin/conda\n",
      "_CE_M=\n",
      "APPLICATION_INSIGHTS_NO_DIAGNOSTIC_CHANNEL=1\n",
      "WSL_DISTRO_NAME=Ubuntu\n",
      "ELECTRON_RUN_AS_NODE=1\n",
      "VSCODE_AMD_ENTRYPOINT=vs/workbench/api/node/extensionHostProcess\n",
      "NAME=Code\n",
      "PWD=/home/ellier/vscode/APCSP\n",
      "LOGNAME=ellier\n",
      "CONDA_PREFIX=/home/ellier/anaconda3\n",
      "MOTD_SHOWN=update-motd\n",
      "project_dir=/home/ellier/vscode\n",
      "HOME=/home/ellier\n",
      "LANG=C.UTF-8\n",
      "WSL_INTEROP=/run/WSL/9_interop\n",
      "LS_COLORS=rs=0:di=01;34:ln=01;36:mh=00:pi=40;33:so=01;35:do=01;35:bd=40;33;01:cd=40;33;01:or=40;31;01:mi=00:su=37;41:sg=30;43:ca=30;41:tw=30;42:ow=34;42:st=37;44:ex=01;32:*.tar=01;31:*.tgz=01;31:*.arc=01;31:*.arj=01;31:*.taz=01;31:*.lha=01;31:*.lz4=01;31:*.lzh=01;31:*.lzma=01;31:*.tlz=01;31:*.txz=01;31:*.tzo=01;31:*.t7z=01;31:*.zip=01;31:*.z=01;31:*.dz=01;31:*.gz=01;31:*.lrz=01;31:*.lz=01;31:*.lzo=01;31:*.xz=01;31:*.zst=01;31:*.tzst=01;31:*.bz2=01;31:*.bz=01;31:*.tbz=01;31:*.tbz2=01;31:*.tz=01;31:*.deb=01;31:*.rpm=01;31:*.jar=01;31:*.war=01;31:*.ear=01;31:*.sar=01;31:*.rar=01;31:*.alz=01;31:*.ace=01;31:*.zoo=01;31:*.cpio=01;31:*.7z=01;31:*.rz=01;31:*.cab=01;31:*.wim=01;31:*.swm=01;31:*.dwm=01;31:*.esd=01;31:*.jpg=01;35:*.jpeg=01;35:*.mjpg=01;35:*.mjpeg=01;35:*.gif=01;35:*.bmp=01;35:*.pbm=01;35:*.pgm=01;35:*.ppm=01;35:*.tga=01;35:*.xbm=01;35:*.xpm=01;35:*.tif=01;35:*.tiff=01;35:*.png=01;35:*.svg=01;35:*.svgz=01;35:*.mng=01;35:*.pcx=01;35:*.mov=01;35:*.mpg=01;35:*.mpeg=01;35:*.m2v=01;35:*.mkv=01;35:*.webm=01;35:*.ogm=01;35:*.mp4=01;35:*.m4v=01;35:*.mp4v=01;35:*.vob=01;35:*.qt=01;35:*.nuv=01;35:*.wmv=01;35:*.asf=01;35:*.rm=01;35:*.rmvb=01;35:*.flc=01;35:*.avi=01;35:*.fli=01;35:*.flv=01;35:*.gl=01;35:*.dl=01;35:*.xcf=01;35:*.xwd=01;35:*.yuv=01;35:*.cgm=01;35:*.emf=01;35:*.ogv=01;35:*.ogx=01;35:*.aac=00;36:*.au=00;36:*.flac=00;36:*.m4a=00;36:*.mid=00;36:*.midi=00;36:*.mka=00;36:*.mp3=00;36:*.mpc=00;36:*.ogg=00;36:*.ra=00;36:*.wav=00;36:*.oga=00;36:*.opus=00;36:*.spx=00;36:*.xspf=00;36:\n",
      "CONDA_PROMPT_MODIFIER=(base) \n",
      "PYDEVD_USE_FRAME_EVAL=NO\n",
      "posts=/home/ellier/vscode/APCSP/_posts\n",
      "LESSCLOSE=/usr/bin/lesspipe %s %s\n",
      "VSCODE_HANDLES_SIGPIPE=true\n",
      "TERM=xterm-256color\n",
      "_CE_CONDA=\n",
      "LESSOPEN=| /usr/bin/lesspipe %s\n",
      "USER=ellier\n",
      "PYTHONIOENCODING=utf-8\n",
      "notebooks=/home/ellier/vscode/APCSP/_notebooks\n",
      "CONDA_SHLVL=1\n",
      "SHLVL=2\n",
      "PAGER=cat\n",
      "project_repo=https://github.com/nighthawkcoders/APCSP.git\n",
      "VSCODE_CWD=/mnt/c/Users/Ellie/AppData/Local/Programs/Microsoft VS Code\n",
      "CONDA_PYTHON_EXE=/home/ellier/anaconda3/bin/python\n",
      "PS1=[PEXP\\[\\]ECT_PROMPT>\n",
      "CONDA_DEFAULT_ENV=base\n",
      "WSLENV=ELECTRON_RUN_AS_NODE/w:\n",
      "VSCODE_WSL_EXT_LOCATION=/mnt/c/Users/Ellie/.vscode/extensions/ms-vscode-remote.remote-wsl-0.66.3\n",
      "XDG_DATA_DIRS=/usr/local/share:/usr/share:/var/lib/snapd/desktop\n",
      "PATH=/home/ellier/.vscode-server/bin/e4503b30fc78200f846c62cf8091b76ff5547662/bin/remote-cli:/home/ellier/anaconda3/bin:/home/ellier/anaconda3/condabin:/usr/local/sbin:/usr/local/bin:/usr/sbin:/usr/bin:/sbin:/bin:/usr/games:/usr/local/games:/usr/lib/wsl/lib:/mnt/c/WINDOWS/system32:/mnt/c/WINDOWS:/mnt/c/WINDOWS/System32/Wbem:/mnt/c/WINDOWS/System32/WindowsPowerShell/v1.0:/mnt/c/WINDOWS/System32/OpenSSH:/mnt/c/Program Files/dotnet:/mnt/c/Program Files/Microsoft SQL Server/130/Tools/Binn:/mnt/c/Program Files/Microsoft SQL Server/Client SDK/ODBC/170/Tools/Binn:/mnt/c/Program Files (x86)/Common Files/Acronis/VirtualFile:/mnt/c/Program Files (x86)/Common Files/Acronis/VirtualFile64:/mnt/c/Program Files (x86)/Common Files/Acronis/SnapAPI:/mnt/c/Program Files/Git/cmd:/mnt/c/Users/Ellie/AppData/Local/Microsoft/WindowsApps:/mnt/c/Users/Ellie/AppData/Local/Programs/Microsoft VS Code/bin:/snap/bin\n",
      "VSCODE_NLS_CONFIG={\"locale\":\"en\",\"availableLanguages\":{}}\n",
      "HOSTTYPE=x86_64\n",
      "VSCODE_HANDLES_UNCAUGHT_ERRORS=true\n",
      "OLDPWD=/home/ellier/vscode/APCSP/_notebooks/images\n",
      "VSCODE_IPC_HOOK_CLI=/tmp/vscode-ipc-c82aeb64-0d3e-4f8f-be52-fc4a30d1e849.sock\n",
      "_=/usr/bin/env\n"
     ]
    }
   ],
   "source": [
    "echo \"Show the shell environment variables, key on left of equal value on right\"\n",
    "echo \"\"\n",
    "\n",
    "env"
   ]
  },
  {
   "cell_type": "code",
   "execution_count": 18,
   "metadata": {
    "vscode": {
     "languageId": "shellscript"
    }
   },
   "outputs": [
    {
     "name": "stdout",
     "output_type": "stream",
     "text": [
      "\n",
      "show the secrets of .git\n",
      "total 60\n",
      "-rw-r--r-- 1 ellier ellier    23 Aug 25 08:51 HEAD\n",
      "drwxr-xr-x 2 ellier ellier  4096 Aug 25 08:51 \u001b[0m\u001b[01;34mbranches\u001b[0m\n",
      "-rw-r--r-- 1 ellier ellier   269 Aug 25 08:51 config\n",
      "-rw-r--r-- 1 ellier ellier    73 Aug 25 08:51 description\n",
      "drwxr-xr-x 2 ellier ellier  4096 Aug 25 08:51 \u001b[01;34mhooks\u001b[0m\n",
      "-rw-r--r-- 1 ellier ellier 20021 Aug 25 08:51 index\n",
      "drwxr-xr-x 2 ellier ellier  4096 Aug 25 08:51 \u001b[01;34minfo\u001b[0m\n",
      "drwxr-xr-x 3 ellier ellier  4096 Aug 25 08:51 \u001b[01;34mlogs\u001b[0m\n",
      "drwxr-xr-x 4 ellier ellier  4096 Aug 25 08:51 \u001b[01;34mobjects\u001b[0m\n",
      "-rw-r--r-- 1 ellier ellier   271 Aug 25 08:51 packed-refs\n",
      "drwxr-xr-x 5 ellier ellier  4096 Aug 25 08:51 \u001b[01;34mrefs\u001b[0m\n",
      "\n",
      "look at config file\n",
      "[core]\n",
      "\trepositoryformatversion = 0\n",
      "\tfilemode = true\n",
      "\tbare = false\n",
      "\tlogallrefupdates = true\n",
      "[remote \"origin\"]\n",
      "\turl = https://github.com/nighthawkcoders/APCSP.git\n",
      "\tfetch = +refs/heads/*:refs/remotes/origin/*\n",
      "[branch \"master\"]\n",
      "\tremote = origin\n",
      "\tmerge = refs/heads/master\n"
     ]
    }
   ],
   "source": [
    "cd $project\n",
    "\n",
    "echo \"\"\n",
    "echo \"show the secrets of .git\"\n",
    "cd .git\n",
    "ls -l\n",
    "\n",
    "echo \"\"\n",
    "echo \"look at config file\"\n",
    "cat config"
   ]
  }
 ],
 "metadata": {
  "kernelspec": {
   "display_name": "Bash",
   "language": "bash",
   "name": "bash"
  },
  "language_info": {
   "codemirror_mode": "shell",
   "file_extension": ".sh",
   "mimetype": "text/x-sh",
   "name": "bash"
  },
  "orig_nbformat": 4
 },
 "nbformat": 4,
 "nbformat_minor": 2
}
