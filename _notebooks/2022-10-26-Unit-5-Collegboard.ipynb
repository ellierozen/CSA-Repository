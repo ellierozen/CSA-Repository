{
 "cells": [
  {
   "cell_type": "markdown",
   "metadata": {},
   "source": [
    "# Unit 5 Writing Classes College Board "
   ]
  },
  {
   "cell_type": "markdown",
   "metadata": {},
   "source": [
    "## writing classes unit 5 \n",
    "\n",
    "- blueprints to instantiate objects \n",
    "- anatomy of a class: object has state, instances, and are represented in an instance \n",
    "- methods and insutructors: behaviors that apply to the object \n",
    "- main method: what the java code runs on \n",
    "- constructors: special method for objecet instantiation \n",
    "- default constructors: no arguements \n",
    "- accessor methods: gives access to the variable value with out to the actual value itself \n",
    "- Mutator method: classes can change the value of a variable without accessing the variable itself \n",
    "- writing a method: method defintion, the signature, the body \n",
    "- void: no reutrn just execute code \n",
    "- static modifiers: class itslef has to be the one that executes the code \n",
    "- \"this\": refers to constructor being called in , references the object \n",
    "- access modifiers: mainly used for encapsulation and helps to prevent misuse of data public static void main string args\n",
    "- varaibles:local, lock level, parameter"
   ]
  },
  {
   "cell_type": "markdown",
   "metadata": {},
   "source": [
    "## New Vocab\n",
    "\n",
    "Writing Classes \n",
    "- In Java, there are two main access levels that you will see in this course, private and public\n",
    "- When creating classes, classes should always be declared public since they need to be accessed by other classes\n",
    "\n",
    "Ex:\n",
    "public class car \n",
    "{\n",
    "    blah\n",
    "}\n",
    "\n",
    "Constructor \n",
    "- You use constructors to create new objects using a class\n",
    "- Constructors are used to set the initial state of an object, which should include initial values for all instance variables\n",
    "- The no-argument constructor executes anytime an object is created and sets any instant variable to their default value\n",
    "- The reason the constructor doesn't return a value is because it's not called directly by your code, it's called by the memory allocation and object initialization code in the runtime.\n",
    "Ex:\n",
    "private int height; \n",
    "\n",
    "Accessor Methods \n",
    "- An accessor method is a method that is used to return the value of an instance (or static) variable to the user\n",
    "- When naming your method you should always use this format: get[Variable Name] for the name- \n",
    "Getter method Ex:\n",
    "\n",
    "private int height = 3;\n",
    "\n",
    "\n",
    "public int getHeight()\n",
    "{\n",
    "  return height;\n",
    "}\n",
    "\n",
    "\n",
    "Mutator Methods\n",
    "- A mutator method is a method that is used to update the value of an instance (or static) variable\n",
    "- Mutator methods set a new value. As such, they are often referred to as setter methods\n",
    "- When creating mutator methods you should always use: set[Variable Name]\n",
    "Ex:\n",
    "private int width = 10;\n",
    "\n",
    "public void setWidth(int newWidth)\n",
    "{\n",
    "  width = newWidth;\n",
    "}\n",
    "\n",
    "Static Methods/Class Methods\n",
    "- A class method (or static method) is a method of a class that is common to all instances of a class and is not called on any specific object instance\n",
    "- Classes can have both instance variables and static variables, but static methods can only update static variables\n",
    "Ex:\n",
    "private static int getTotalBirds()\n",
    "{\n",
    "  return totalBirds;\n",
    "}\n",
    "\n",
    "\n",
    "Static Variables \n",
    "- Because static methods and variables are available across an entire class, they don’t need to be called on a particular instance of the class. \n",
    "Ex:\n",
    "Skater.getTotalSkaters(); //This will call the getTotalSkaters() method on the Skater class without requiring an instance of the class to be created.\n",
    "\n",
    "This \n",
    "- \"this\": refers to constructor being called in , references the object \n",
    "\n",
    "Access modifiers \n",
    "- mainly used for encapsulation and helps to prevent misuse of data public static void main string args\n",
    "- public, protected, default, private \n",
    "Ex:\n",
    "private static void \n",
    "protected void \n",
    "\n"
   ]
  },
  {
   "cell_type": "markdown",
   "metadata": {},
   "source": [
    "### accessor tangible"
   ]
  },
  {
   "cell_type": "code",
   "execution_count": 12,
   "metadata": {
    "vscode": {
     "languageId": "java"
    }
   },
   "outputs": [],
   "source": [
    "int width = 10;\n",
    "public int getWidth()\n",
    "{\n",
    "  return width;\n",
    "}\n"
   ]
  },
  {
   "cell_type": "markdown",
   "metadata": {},
   "source": [
    "### mutator tangible"
   ]
  },
  {
   "cell_type": "code",
   "execution_count": 11,
   "metadata": {
    "vscode": {
     "languageId": "java"
    }
   },
   "outputs": [],
   "source": [
    "int height = 3;\n",
    "public void setHeight(int newHeight)\n",
    "{\n",
    "  height = newHeight;\n",
    "  System.out.println(height);\n",
    "}\n"
   ]
  },
  {
   "cell_type": "markdown",
   "metadata": {},
   "source": [
    "### static variables and methods tangibles "
   ]
  },
  {
   "cell_type": "code",
   "execution_count": 13,
   "metadata": {
    "vscode": {
     "languageId": "java"
    }
   },
   "outputs": [],
   "source": [
    "class SuperHeroTester\n",
    "{\n",
    "    public static void main(String[] args)\n",
    "    {\n",
    "        Power speed = new Power(\"Speed\", 10);\n",
    "        System.out.println(\"Creating the Flash!\");\n",
    "    \n",
    "        SuperHero theFlash = new SuperHero(\"The Flash\", speed);\n",
    "        \n",
    "        System.out.println(\"Number of SuperHeroes Created:\");\n",
    "        System.out.println(SuperHero.getNumSuperHeroes());\n",
    "        \n",
    "        System.out.println(\"Creating Shazam!\");\n",
    "        SuperHero shazam = new SuperHero(\"Shazam\", speed);\n",
    "        \n",
    "        System.out.println(\"Number of SuperHeroes Created:\");\n",
    "        System.out.println(SuperHero.numSuperHeroes);\n",
    "    }\n",
    "\n",
    "\n",
    "}"
   ]
  },
  {
   "cell_type": "markdown",
   "metadata": {},
   "source": [
    "## 2021 FRQ 1a"
   ]
  },
  {
   "cell_type": "code",
   "execution_count": null,
   "metadata": {
    "vscode": {
     "languageId": "java"
    }
   },
   "outputs": [],
   "source": [
    "public int scoreGuess (String guess)\n",
    "{\n",
    "    int count = 0 \n",
    "    for (int = 0, i <= secret.length() - guess.length(), i++)\n",
    "    {\n",
    "        if (secret.substring (i, i + guess.length()).equals (guess))\n",
    "        {\n",
    "            count++;\n",
    "        }\n",
    "    }\n",
    "    return count * guess.length() * guess.length();\n",
    "}"
   ]
  },
  {
   "cell_type": "markdown",
   "metadata": {},
   "source": [
    "## 2021 FRQ 3a"
   ]
  },
  {
   "cell_type": "code",
   "execution_count": null,
   "metadata": {
    "vscode": {
     "languageId": "java"
    }
   },
   "outputs": [],
   "source": [
    "public void addMembers(String[] names, int gradYear)\n",
    "{\n",
    "    for( String n : names )\n",
    "    {\n",
    "        MemberInfo newMember = new MemberInfo (n, gradYear, true);\n",
    "        memberList.add(newMember)\n",
    "    }   \n",
    "}"
   ]
  }
 ],
 "metadata": {
  "kernelspec": {
   "display_name": "Java",
   "language": "java",
   "name": "java"
  },
  "language_info": {
   "codemirror_mode": "java",
   "file_extension": ".jshell",
   "mimetype": "text/x-java-source",
   "name": "Java",
   "pygments_lexer": "java",
   "version": "11.0.16+8-post-Ubuntu-0ubuntu120.04"
  },
  "orig_nbformat": 4
 },
 "nbformat": 4,
 "nbformat_minor": 2
}
