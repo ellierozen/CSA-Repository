{
 "cells": [
  {
   "cell_type": "markdown",
   "metadata": {},
   "source": [
    "# Unit 5 Writing Classes College Board "
   ]
  },
  {
   "cell_type": "markdown",
   "metadata": {},
   "source": [
    "## writing classes unit 5 \n",
    "\n",
    "- blueprints to instantiate objects \n",
    "- anatomy of a class: object has state, instances, and are represented in an instance \n",
    "- methods and insutructors: behaviors that apply to the object \n",
    "- main method: what the java code runs on \n",
    "- constructors: special method for objecet instantiation \n",
    "- default constructors: no arguements \n",
    "- accessor methods: gives access to the variable value with out to the actual value itself \n",
    "- Mutator method: classes can change the value of a variable without accessing the variable itself \n",
    "- writing a method: method defintion, the signature, the body \n",
    "- void: no reutrn just execute code \n",
    "- static modifiers: class itslef has to be the one that executes the code \n",
    "- \"this\": refers to constructor being called in , references the object \n",
    "- access modifiers: mainly used for encapsulation and helps to prevent misuse of data public static void main string args\n",
    "- varaibles:local, lock level, parameter"
   ]
  },
  {
   "cell_type": "markdown",
   "metadata": {},
   "source": [
    "## 2021 FRQ 1a"
   ]
  },
  {
   "cell_type": "code",
   "execution_count": null,
   "metadata": {},
   "outputs": [],
   "source": [
    "public int scoreGuess (String guess)\n",
    "{\n",
    "    int count = 0 \n",
    "    for (int = 0, i <= secret.length() - guess.length(), i++)\n",
    "    {\n",
    "        if (secret.substring (i, i + guess.length()).equals (guess))\n",
    "        {\n",
    "            count++;\n",
    "        }\n",
    "    }\n",
    "    return count * guess.length() * guess.length();\n",
    "}"
   ]
  },
  {
   "cell_type": "markdown",
   "metadata": {},
   "source": [
    "## 2021 FRQ 3a"
   ]
  },
  {
   "cell_type": "code",
   "execution_count": null,
   "metadata": {},
   "outputs": [],
   "source": [
    "public void addMembers(String[] names, int gradYear)\n",
    "{\n",
    "    for( String n : names )\n",
    "    {\n",
    "        MemberInfo newMember = new MemberInfo (n, gradYear, true);\n",
    "        memberList.add(newMember)\n",
    "    }   \n",
    "}"
   ]
  }
 ],
 "metadata": {
  "kernelspec": {
   "display_name": "Java",
   "language": "java",
   "name": "java"
  },
  "language_info": {
   "name": "java"
  },
  "orig_nbformat": 4
 },
 "nbformat": 4,
 "nbformat_minor": 2
}
