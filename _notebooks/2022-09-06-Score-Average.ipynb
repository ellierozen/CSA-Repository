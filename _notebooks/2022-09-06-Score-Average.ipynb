{
 "cells": [
  {
   "cell_type": "markdown",
   "metadata": {},
   "source": [
    "# Score Average Calculator "
   ]
  },
  {
   "cell_type": "code",
   "execution_count": 2,
   "metadata": {
    "vscode": {
     "languageId": "java"
    }
   },
   "outputs": [
    {
     "name": "stdout",
     "output_type": "stream",
     "text": [
      "How many scores do you need to enter?\n",
      "Please enter score: \n",
      "2.0\n",
      "Please enter score: \n",
      "2.0\n",
      "Average score is: 2.0\n"
     ]
    }
   ],
   "source": [
    "static double getScoreAverage (double [] scores)\n",
    "{\n",
    "    double total = 0.0;\n",
    "    for (int i = 0; i < scores.length; i++)\n",
    "    {\n",
    "        total = total + scores[i];\n",
    "    }\n",
    "\n",
    "    return scores.length == 0 ? 0 : total / scores.length;\n",
    " \n",
    "}\n",
    "\n",
    "//Scanner input = new Scanner(system.in);\n",
    "//System.out.print(\"What is the total number of scores do you have?:\");\n",
    "//int studentCount = intput.nextint();\n",
    "\n",
    "java.util.Scanner input = new java.util.Scanner(System.in);\n",
    "System.out.println(\"How many scores do you need to enter?\");\n",
    "\n",
    "int scoreCount = input.nextInt();\n",
    "double [] scores = new double[scoreCount];\n",
    "\n",
    "for (int i = 0; i < scoreCount; i++)\n",
    "{\n",
    "    System.out.println(\"Please enter score: \");\n",
    "    double score = input.nextDouble();\n",
    "    scores[i] = score;\n",
    "    System.out.println(score);\n",
    "}\n",
    "\n",
    "// double [] scores = new double[] { 100, 92, 78, 32, 100 };\n",
    "\n",
    "System.out.println(\"Average score is: \" + getScoreAverage(scores));"
   ]
  }
 ],
 "metadata": {
  "kernelspec": {
   "display_name": "Java",
   "language": "java",
   "name": "java"
  },
  "language_info": {
   "codemirror_mode": "java",
   "file_extension": ".jshell",
   "mimetype": "text/x-java-source",
   "name": "Java",
   "pygments_lexer": "java",
   "version": "11.0.16+8-post-Ubuntu-0ubuntu120.04"
  },
  "orig_nbformat": 4,
  "vscode": {
   "interpreter": {
    "hash": "916dbcbb3f70747c44a77c7bcd40155683ae19c65e1c03b4aa3499c5328201f1"
   }
  }
 },
 "nbformat": 4,
 "nbformat_minor": 2
}
