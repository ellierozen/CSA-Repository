{
 "cells": [
  {
   "cell_type": "markdown",
   "metadata": {},
   "source": [
    "# Arrays and Lists "
   ]
  },
  {
   "cell_type": "code",
   "execution_count": 3,
   "metadata": {
    "vscode": {
     "languageId": "java"
    }
   },
   "outputs": [
    {
     "name": "stdout",
     "output_type": "stream",
     "text": [
      "Current list is []\n",
      "Add more? (y/n)\n",
      "Enter : \n",
      "Current list is [boots]\n",
      "Add more? (y/n)\n",
      "Enter : \n",
      "Current list is [boots, jacket]\n",
      "Add more? (y/n)\n",
      "Enter : \n",
      "Current list is [boots, jacket, dog]\n",
      "Add more? (y/n)\n",
      "List is [boots, jacket, dog]\n",
      "Array is [boots, jacket, dog]\n"
     ]
    }
   ],
   "source": [
    "import java.util.*;\n",
    "\n",
    "\n",
    "public class WishList {\n",
    "    public static void main(String arg[]){\n",
    "        // create a ArrayList String type\n",
    "        ArrayList<String> wishlist = new ArrayList<String>();\n",
    "        Scanner input = new Scanner(System.in);\n",
    "\n",
    "        do {\n",
    "            System.out.println(\"Current list is \" + wishlist);\n",
    "            System.out.println(\"Add more? (y/n)\");\n",
    "            if (input.next().startsWith(\"y\")) {\n",
    "                System.out.println(\"Enter : \");\n",
    "                Scanner user = new Scanner(System.in);\n",
    "                wishlist.add(user.next());\n",
    "            } else {\n",
    "                break;\n",
    "            }\n",
    "        } while (true);\n",
    "        input.close();\n",
    "        System.out.println(\"List is \" + wishlist);\n",
    "        String[] arr = wishlist.toArray(new String[0]);\n",
    "        System.out.println(\"Array is \" + Arrays.toString(arr));\n",
    "\n",
    "    }\n",
    "}\n",
    "\n",
    "WishList.main(null);"
   ]
  }
 ],
 "metadata": {
  "kernelspec": {
   "display_name": "Java",
   "language": "java",
   "name": "java"
  },
  "language_info": {
   "codemirror_mode": "java",
   "file_extension": ".jshell",
   "mimetype": "text/x-java-source",
   "name": "Java",
   "pygments_lexer": "java",
   "version": "11.0.16+8-post-Ubuntu-0ubuntu120.04"
  },
  "orig_nbformat": 4,
  "vscode": {
   "interpreter": {
    "hash": "916dbcbb3f70747c44a77c7bcd40155683ae19c65e1c03b4aa3499c5328201f1"
   }
  }
 },
 "nbformat": 4,
 "nbformat_minor": 2
}
