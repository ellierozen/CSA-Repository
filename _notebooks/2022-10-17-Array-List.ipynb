{
 "cells": [
  {
   "cell_type": "markdown",
   "metadata": {},
   "source": [
    "# Arrays and Lists "
   ]
  },
  {
   "cell_type": "code",
   "execution_count": 38,
   "metadata": {
    "vscode": {
     "languageId": "java"
    }
   },
   "outputs": [
    {
     "name": "stdout",
     "output_type": "stream",
     "text": [
      "[boots, dress, shirt, skirt] : 4 amount of wants\n",
      "===========\n",
      "List doesn't have items? false\n",
      "===========\n",
      "[boots, dress, shirt, skirt, Earrings, Necklace, Ring, Bracelet]\n",
      "===========\n",
      "[dress, shirt, skirt, Earrings, Necklace, Ring, Bracelet]\n",
      "===========\n",
      "Dont want your first item?: dress\n",
      "===========\n",
      "Your new wishlist: [jacket, shirt, skirt, Earrings, Necklace, Ring, Bracelet]\n",
      "===========\n",
      "lets get rid of the second item!\n",
      "[jacket, skirt, Earrings, Necklace, Ring, Bracelet]\n",
      "===========\n",
      "Where is skirt on the list now?\n",
      "Skirt index is: 1\n",
      "===========\n",
      "Where is pants last seen on my wishlist? -1\n",
      "===========\n",
      "are my two wishlists the same? false\n",
      "===========\n",
      "-1154896441\n",
      "===========\n",
      "Are sparkly shoes on my wishlist? false\n",
      "===========\n",
      "[Bracelet, Earrings, Necklace, Ring, jacket, skirt]\n",
      "===========\n",
      " 0\n"
     ]
    }
   ],
   "source": [
    "import java.util.ArrayList;\n",
    "\n",
    "public class WishList {\n",
    "\n",
    "    public static void main(String [] args) {\n",
    "        lists(null);\n",
    "    }\n",
    "\n",
    "    public static void lists(String arg[]) {\n",
    "        // create a ArrayList String type\n",
    "        ArrayList<String> clothesWishlist = new ArrayList<String>();\n",
    "        ArrayList<String> jewelryWishlist= new ArrayList<String>(Arrays.asList(\"Earrings\", \"Necklace\", \"Ring\", \"Bracelet\"));\n",
    "\n",
    "        //adding items to list \n",
    "        clothesWishlist.add(\"boots\");\n",
    "        clothesWishlist.add(\"dress\");\n",
    "        clothesWishlist.add(\"shirt\");\n",
    "        clothesWishlist.add(\"skirt\");\n",
    "        //printing wishlist \n",
    "        System.out.println(\"\"+ clothesWishlist + \" : \" + clothesWishlist.size() + \" amount of wants\");\n",
    "        System.out.println(\"===========\");\n",
    "        //checking if list is empty\n",
    "        System.out.println(\"List doesn't have items? \" + clothesWishlist.isEmpty());\n",
    "        System.out.println(\"===========\");\n",
    "        //adding jewlery to clothing list \n",
    "        clothesWishlist.addAll(jewelryWishlist);\n",
    "        System.out.println(\"\" + clothesWishlist);\n",
    "        System.out.println(\"===========\");\n",
    "        //Removing an element \n",
    "        clothesWishlist.remove(\"boots\");\n",
    "        System.out.println(\"\"+ clothesWishlist );\n",
    "        System.out.println(\"===========\");\n",
    "        //get index\n",
    "        System.out.println(\"Dont want your first item?: \" + clothesWishlist.get(0));\n",
    "        System.out.println(\"===========\");\n",
    "        //set index\n",
    "        clothesWishlist.set(0, \"jacket\");\n",
    "        System.out.println(\"Your new wishlist: \" + clothesWishlist);\n",
    "        System.out.println(\"===========\");\n",
    "        //remove index\n",
    "        clothesWishlist.remove(1);\n",
    "        System.out.println(\"lets get rid of the second item!\");\n",
    "        System.out.println(\"\" + clothesWishlist);\n",
    "        System.out.println(\"===========\");\n",
    "        //indexOf\n",
    "        System.out.println(\"Where is skirt on the list now?\");\n",
    "        System.out.println(\"Skirt index is: \" + clothesWishlist.indexOf(\"skirt\"));\n",
    "        System.out.println(\"===========\");\n",
    "        //lastIndexOf returns -1 because pants were never added \n",
    "        System.out.println(\"Where is pants last seen on my wishlist? \" + clothesWishlist.lastIndexOf(\"pants\"));\n",
    "        System.out.println(\"===========\");\n",
    "        // compares jewelry wishlist and clothing wishlist\n",
    "        System.out.println(\"are my two wishlists the same? \" + clothesWishlist.equals(jewelryWishlist));\n",
    "        System.out.println(\"===========\");\n",
    "        //hashcode \n",
    "        System.out.println(clothesWishlist.hashCode());\n",
    "        System.out.println(\"===========\");\n",
    "        //check if list contains \n",
    "        System.out.println(\"Are sparkly shoes on my wishlist? \" +clothesWishlist.contains(\"sparkly shoes\"));\n",
    "        System.out.println(\"===========\");\n",
    "        //sort by alphabetical order\n",
    "        clothesWishlist.sort(Comparator.naturalOrder());\n",
    "        System.out.println(clothesWishlist);\n",
    "        System.out.println(\"===========\");\n",
    "        //clearing the list\n",
    "        clothesWishlist.clear();\n",
    "        System.out.println(\" \" + clothesWishlist.size());\n",
    "\n",
    "\n",
    "        \n",
    "    }\n",
    "\n",
    "     \n",
    "\n",
    "        \n",
    "}\n",
    "\n",
    "WishList.main(null);"
   ]
  }
 ],
 "metadata": {
  "kernelspec": {
   "display_name": "Java",
   "language": "java",
   "name": "java"
  },
  "language_info": {
   "codemirror_mode": "java",
   "file_extension": ".jshell",
   "mimetype": "text/x-java-source",
   "name": "Java",
   "pygments_lexer": "java",
   "version": "11.0.16+8-post-Ubuntu-0ubuntu120.04"
  },
  "orig_nbformat": 4,
  "vscode": {
   "interpreter": {
    "hash": "916dbcbb3f70747c44a77c7bcd40155683ae19c65e1c03b4aa3499c5328201f1"
   }
  }
 },
 "nbformat": 4,
 "nbformat_minor": 2
}
