{
 "cells": [
  {
   "attachments": {},
   "cell_type": "markdown",
   "metadata": {},
   "source": [
    "# Challenge 4 Build a Stack and use it to reverse the order of a Queue"
   ]
  },
  {
   "cell_type": "code",
   "execution_count": null,
   "metadata": {
    "vscode": {
     "languageId": "java"
    }
   },
   "outputs": [],
   "source": [
    "import java.util.Stack;\n",
    "\n",
    "public class QueueToStackExample {\n",
    "    public static void main(String[] args) {\n",
    "    Object[] numbers = new Integer[] { 1, 2, 3, 4, 5};\n",
    "    QueueChange qNumbers = new QueueChange(\"Numbers\");\n",
    "\n",
    "        for (Object o : numbers) {\n",
    "          qNumbers.add(o);\n",
    "        }\n",
    "\n",
    "    Stack<Object> stack = new Stack<>();\n",
    "\n",
    "    System.out.println(\"Stack Initial: \" + stack);\n",
    "    System.out.print(\"Queue Initial: \");\n",
    "    qNumbers.printIntQueue();\n",
    "\n",
    "    // Add integers 1 through 5 to the stack\n",
    "\n",
    "    int count = qNumbers.getCount();\n",
    "    for (int i = 0; i < count; i++) {\n",
    "      stack.push(qNumbers.delete());\n",
    "    }\n",
    "\n",
    "    System.out.println(\"Stack Full: \" + stack);\n",
    "    System.out.print(\"Queue when Stacked: \");\n",
    "    qNumbers.printIntQueue();\n",
    "\n",
    "    for (int i = 0; i < count; i++) {\n",
    "      qNumbers.add(stack.pop());\n",
    "    }\n",
    "    \n",
    "    System.out.println(\"Stack Final: \" + stack);\n",
    "    System.out.print(\"Queue Final: \");\n",
    "    qNumbers.printIntQueue();\n",
    "    }\n",
    "}\n",
    "QueueToStackExample.main(null);"
   ]
  }
 ],
 "metadata": {
  "kernelspec": {
   "display_name": "Java",
   "language": "java",
   "name": "java"
  },
  "language_info": {
   "codemirror_mode": "java",
   "file_extension": ".jshell",
   "mimetype": "text/x-java-source",
   "name": "Java",
   "pygments_lexer": "java",
   "version": "17.0.2+8-86"
  },
  "orig_nbformat": 4
 },
 "nbformat": 4,
 "nbformat_minor": 2
}
