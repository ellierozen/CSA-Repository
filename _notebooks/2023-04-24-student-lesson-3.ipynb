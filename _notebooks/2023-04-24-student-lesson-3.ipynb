{
 "cells": [
  {
   "attachments": {},
   "cell_type": "markdown",
   "metadata": {},
   "source": [
    "# Student lesson 3"
   ]
  },
  {
   "attachments": {},
   "cell_type": "markdown",
   "metadata": {},
   "source": [
    "## Save this code from infinite recursion and make it not infinite "
   ]
  },
  {
   "cell_type": "code",
   "execution_count": 1,
   "metadata": {
    "vscode": {
     "languageId": "java"
    }
   },
   "outputs": [
    {
     "name": "stdout",
     "output_type": "stream",
     "text": [
      "**********\n",
      "*********\n",
      "********\n",
      "*******\n",
      "******\n",
      "*****\n",
      "****\n",
      "***\n",
      "**\n",
      "*\n"
     ]
    }
   ],
   "source": [
    "public void drawLine(int stars) {\n",
    "    for (int i = 1; i <= stars; i++) {\n",
    "        System.out.print(\"*\");\n",
    "       \n",
    "    }\n",
    "    if(stars>0){\n",
    "        System.out.println();\n",
    "        drawLine(stars - 1);\n",
    "    }\n",
    "\n",
    "\n",
    "}\n",
    "drawLine(10);"
   ]
  },
  {
   "attachments": {},
   "cell_type": "markdown",
   "metadata": {},
   "source": [
    "## Write a insertion or selection sort program that sorts an ArrayList in decreasing order so that the largest country is at the beginning of the array (Create your own Country class with size). Use a Comparator."
   ]
  },
  {
   "cell_type": "code",
   "execution_count": 61,
   "metadata": {
    "vscode": {
     "languageId": "java"
    }
   },
   "outputs": [
    {
     "name": "stdout",
     "output_type": "stream",
     "text": [
      "country: US Size: 9525067\n",
      "country: Brazil Size: 8515770\n",
      "country: Australia Size: 7741220\n",
      "country: India Size: 3287260\n",
      "country: Argentina Size: 2780400\n"
     ]
    }
   ],
   "source": [
    "public class Country {\n",
    "int size;\n",
    "String countryName;\n",
    "\n",
    "    public Country(String countryName, int size){\n",
    "        this.size = size;\n",
    "        this.countryName = countryName; \n",
    "\n",
    "    }\n",
    "\n",
    "    public int getSize(){\n",
    "        return this.size;\n",
    "    }\n",
    "\n",
    "\n",
    "    // compare country population sizes\n",
    "    public int compareCountry(Country country) {\n",
    "        if (this.getSize() < country.getSize())\n",
    "        {\n",
    "            return 0;\n",
    "        }   \n",
    "        else if (this.getSize() > country.getSize()){\n",
    "            return 1;\n",
    "        }\n",
    "        else{\n",
    "            return -1;\n",
    "        }\n",
    "    }\n",
    "\n",
    "    public String toString() {\n",
    "        String string = \"country: \" + this.countryName + \" Size: \" + this.size;\n",
    "        return string;\n",
    "    }\n",
    "\n",
    "}\n",
    "public class SelectionSort {\n",
    "    public static void sort(Country[] arr) {\n",
    "        for (int i = 0; i < arr.length-1; i++) {\n",
    "            int min_idx = i;\n",
    "            for (int j = i+1; j < arr.length; j++) {\n",
    "                // use compare country, only set min_idx if -1 (smaller pop)\n",
    "                if (arr[j].compareCountry(arr[min_idx]) == 1)\n",
    "                    min_idx = j;\n",
    "            }\n",
    "            // assign temp country to swap\n",
    "            Country temp = arr[min_idx];\n",
    "            arr[min_idx] = arr[i];\n",
    "            arr[i] = temp;\n",
    "        }\n",
    "    }\n",
    "\n",
    "    public static void main(String[] args) {\n",
    "    \n",
    "        Country[] arr = {new Country(\"Argentina\", 2780400 ), new Country(\"India\", 3287260), new Country(\"Australia\", 7741220 ), new Country(\"Brazil\", 8515770 ), new Country(\"US\", 9525067)};\n",
    "        \n",
    "    \n",
    "        \n",
    "        SelectionSort.sort(arr);\n",
    "        for (int i = 0; i < arr.length; i++) {\n",
    "            System.out.println(arr[i]);\n",
    "        }\n",
    "     \n",
    "    }\n",
    "\n",
    "}\n",
    "SelectionSort.main(null);"
   ]
  },
  {
   "attachments": {},
   "cell_type": "markdown",
   "metadata": {},
   "source": [
    "## Test if two arraylists contain the same elements in reverse order"
   ]
  },
  {
   "cell_type": "code",
   "execution_count": 16,
   "metadata": {
    "vscode": {
     "languageId": "java"
    }
   },
   "outputs": [
    {
     "name": "stdout",
     "output_type": "stream",
     "text": [
      "[Ellie, Samay, Nicky]\n",
      "[Nicky, Samaya, Ellie]\n",
      "not equal\n"
     ]
    }
   ],
   "source": [
    "public static void main(String []args){\n",
    "    ArrayList<String> list1=new ArrayList<String>();\n",
    "    list1.add(\"Ellie\");//Adding object in arraylist    \n",
    "    list1.add(\"Samay\");    \n",
    "    list1.add(\"Nicky\");    \n",
    "    System.out.println(list1); \n",
    "\n",
    "    ArrayList<String> list2=new ArrayList<String>();\n",
    "    list2.add(\"Nicky\");    \n",
    "    list2.add(\"Samaya\");    \n",
    "    list2.add(\"Ellie\");    \n",
    "  \n",
    "    System.out.println(list2); \n",
    "\n",
    "    if(list1.equals(list2)) {\n",
    "        System.out.println(\"is equal\");\n",
    "    }\n",
    "    else{\n",
    "        System.out.println(\"not equal\");\n",
    "    }\n",
    "    \n",
    "}\n",
    "main(null);"
   ]
  },
  {
   "attachments": {},
   "cell_type": "markdown",
   "metadata": {},
   "source": [
    "## Remove every other element from an arraylist"
   ]
  },
  {
   "cell_type": "code",
   "execution_count": 29,
   "metadata": {
    "vscode": {
     "languageId": "java"
    }
   },
   "outputs": [
    {
     "name": "stdout",
     "output_type": "stream",
     "text": [
      "[1, 3, 5]"
     ]
    }
   ],
   "source": [
    "public static void main(String []args){\n",
    "ArrayList<Integer> list = new ArrayList<Integer>();\n",
    "list.add(1);\n",
    "list.add(2);\n",
    "list.add(3);\n",
    "list.add(4);\n",
    "list.add(5);\n",
    "list.add(6);\n",
    "\n",
    "ArrayList<Integer> remove = new ArrayList<Integer>();\n",
    "int count = 2;\n",
    "\n",
    "for (int i = 0; i < list.size(); i++) {\n",
    "    if (!(i % count == 0)) {\n",
    "        remove.add(list.get(i));\n",
    "    }\n",
    "}\n",
    "\n",
    "list.removeAll(remove);\n",
    "\n",
    "System.out.print(list);\n",
    "}\n",
    "main(null);"
   ]
  }
 ],
 "metadata": {
  "kernelspec": {
   "display_name": "Java",
   "language": "java",
   "name": "java"
  },
  "language_info": {
   "codemirror_mode": "java",
   "file_extension": ".jshell",
   "mimetype": "text/x-java-source",
   "name": "Java",
   "pygments_lexer": "java",
   "version": "17.0.2+8-86"
  },
  "orig_nbformat": 4
 },
 "nbformat": 4,
 "nbformat_minor": 2
}
