{
 "cells": [
  {
   "cell_type": "markdown",
   "metadata": {},
   "source": [
    "# Unit 3 College Board Booleans and If-Else"
   ]
  },
  {
   "cell_type": "markdown",
   "metadata": {},
   "source": [
    "- all non zero numbers are true\n",
    "- the most common example: 1 = true; 0 = false\n",
    "- == checks for comparison\n",
    "- not to be confused with = which is assignment\n",
    "- != checks for inequality\n",
    "- <, >, >=, <=\n",
    "- these operands do their normal functions\n",
    "- || relates to the or function\n",
    "- && related to and function"
   ]
  },
  {
   "cell_type": "markdown",
   "metadata": {},
   "source": [
    "## Homework "
   ]
  },
  {
   "cell_type": "markdown",
   "metadata": {},
   "source": [
    "### 2009 FRQ 3B"
   ]
  },
  {
   "cell_type": "code",
   "execution_count": null,
   "metadata": {},
   "outputs": [],
   "source": [
    "\n",
    "public int getChargeStartTime(int chargeTime)  // determines start time to charge battery at lowest cost \n",
    "{\n",
    " int startTime = 0;\n",
    " for (int i = 1; i < 24; i++)  // iterate through the differeant start times with a returned values <= 23\n",
    " {\n",
    " if (this.getChargingCost(i, chargeTime)\n",
    " < this.getChargingCost(startTime, chargeTime))\n",
    " {\n",
    " startTime = i;\n",
    " }\n",
    " }\n",
    " return startTime;\n",
    "}"
   ]
  },
  {
   "cell_type": "markdown",
   "metadata": {},
   "source": [
    "### 2017 FRQ 1B"
   ]
  },
  {
   "cell_type": "code",
   "execution_count": null,
   "metadata": {},
   "outputs": [],
   "source": [
    "public boolean isStrictlyIncreasing(){\n",
    "    for(int i = 1; i < digitList.size(); i++){  // iterate through the digits \n",
    "        if (digitList.get(i-1).compareTo(digitList.get(i)) >= 0)\n",
    "        {\n",
    "            return false;\n",
    "        }\n",
    "        else\n",
    "        {\n",
    "            return true;\n",
    "        }\n",
    "    }\n",
    "}"
   ]
  },
  {
   "cell_type": "markdown",
   "metadata": {},
   "source": [
    "### 2019 FRQ 3B"
   ]
  },
  {
   "cell_type": "code",
   "execution_count": null,
   "metadata": {},
   "outputs": [],
   "source": [
    "public boolean isBalanced(ArrayList<String> delimiters) {\n",
    "    int open = 0;\n",
    "    int close = 0;\n",
    "    for (String d: delimiters) {\n",
    "        if (d.equals(openDel)) {\n",
    "            open++;\n",
    "        } else if (d.equals(closeDel)) {\n",
    "            close++;\n",
    "        }\n",
    "\n",
    "        if (close > open) return false; \n",
    "    }\n",
    "    return open == close; \n",
    "}"
   ]
  }
 ],
 "metadata": {
  "kernelspec": {
   "display_name": "Java",
   "language": "java",
   "name": "java"
  },
  "language_info": {
   "name": "java"
  },
  "orig_nbformat": 4
 },
 "nbformat": 4,
 "nbformat_minor": 2
}
