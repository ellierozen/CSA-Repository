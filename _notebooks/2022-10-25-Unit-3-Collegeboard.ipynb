{
 "cells": [
  {
   "cell_type": "markdown",
   "metadata": {},
   "source": [
    "# Unit 3 College Board Booleans and If-Else"
   ]
  },
  {
   "cell_type": "markdown",
   "metadata": {},
   "source": [
    "- all non zero numbers are true\n",
    "- the most common example: 1 = true; 0 = false\n",
    "- == checks for comparison\n",
    "- not to be confused with = which is assignment\n",
    "- != checks for inequality\n",
    "- <, >, >=, <=\n",
    "- these operands do their normal functions\n",
    "- || relates to the or function\n",
    "- && related to and function"
   ]
  },
  {
   "cell_type": "markdown",
   "metadata": {},
   "source": [
    "## New Vocab \n",
    "\n",
    "Compound Boolean Expression\n",
    "-  Logical operators allow you to combine and connect booleans in useful ways.\n",
    "    - not, or, and \n",
    "- ! operator takes precedence over &&, and && takes precedence over ||\n",
    "Ex:\n",
    " a && b || b\n",
    "\n",
    "Truth Tables \n",
    "*Or operator*\n",
    "true\ttrue\ttrue\n",
    "true\tfalse\ttrue\n",
    "false\ttrue\ttrue\n",
    "false\tfalse\tfalse\n",
    "*And operator*\n",
    "true\ttrue\ttrue\n",
    "true\tfalse\tfalse\n",
    "false\ttrue\tfalse\n",
    "false\tfalse\tfalse\n",
    "*Not operator*\n",
    "true\tfalse\n",
    "false\ttrue\n",
    "\n",
    "DeMorgans Law \n",
    "- easy reminder-- De Morgan’s Laws: move the NOT inside, AND becomes OR and move the NOT inside, OR becomes AND\n",
    "Ex:\n",
    "!(c == d) is equivalent to (c != d)\n",
    "\n",
    "!(c != d) is equivalent to (c == d)\n",
    "\n",
    "!(c < d) is equivalent to (c >= d)\n",
    "\n",
    "!(c > d) is equivalent to (c <= d)\n",
    "\n",
    "!(c <= d) is equivalent to (c > d)\n",
    "\n",
    "!(c >= d) is equivalent to (c < d)\n",
    "\n",
    "\n",
    "Comparing Strings, Objets, Numbers \n",
    "- comparing the objects with == returns true\n",
    "- You can also do this comparison with != to check if two objects are not aliases\n",
    "-  .equals(). This method is called from a variable and it passes a parameter to compare to in order to determine if the values are equal\n",
    "*strings* Ex: \n",
    "            if(favoritMovie.equals(\"Gentlemen\"))\n",
    "        {\n",
    "            System.out.println(\"Good Choice\");\n",
    "        }\n",
    "        else \n",
    "        {\n",
    "            System.out.println(\"Are you sure that's your favorite movie?\");\n",
    "        }\n",
    "*objets* Ex: \n",
    "Rectangle one = new Rectangle(3,7);\n",
    "Rectangle two = one;\n",
    "\n",
    "boolean same = one == two; // Will be true\n",
    "*numbers* Ex:\n",
    "  if(one.equals(two))\n",
    "        {\n",
    "            System.out.println(one + \" is equal to \" + two);\n",
    "        }"
   ]
  },
  {
   "cell_type": "markdown",
   "metadata": {},
   "source": [
    "## compound boolean tangible"
   ]
  },
  {
   "cell_type": "code",
   "execution_count": 7,
   "metadata": {},
   "outputs": [
    {
     "name": "stdout",
     "output_type": "stream",
     "text": [
      "Time to get outside!\n"
     ]
    }
   ],
   "source": [
    "int temp = 90;\n",
    "boolean sunny = true; \n",
    "if (temp > 70 && sunny) {\n",
    "    System.out.println(\"Time to get outside!\");\n",
    "}"
   ]
  },
  {
   "cell_type": "markdown",
   "metadata": {},
   "source": [
    "### Demorgans law tangible"
   ]
  },
  {
   "cell_type": "code",
   "execution_count": 8,
   "metadata": {},
   "outputs": [
    {
     "name": "stdout",
     "output_type": "stream",
     "text": [
      "True code block\n",
      "True code block\n",
      "True or False code block\n",
      "true or false\n"
     ]
    }
   ],
   "source": [
    "boolean a = true;\n",
    "boolean b = false;\n",
    "if (a) {\n",
    "    System.out.println(\"True code block\");\n",
    "}\n",
    "\n",
    "if (a && !b) {\n",
    "    System.out.println(\"True code block\");\n",
    "}\n",
    "\n",
    "if (a || b) {\n",
    "    System.out.println(\"True or False code block\");\n",
    "}\n",
    "\n",
    "if ((a && !b) && (a || a)) {\n",
    "    System.out.println(\"true or false\");\n",
    "}\n",
    "\n",
    "if (!a && b ) {\n",
    "    System.out.println(\"False code block\");\n",
    "}\n"
   ]
  },
  {
   "cell_type": "markdown",
   "metadata": {},
   "source": [
    "### comparing "
   ]
  },
  {
   "cell_type": "code",
   "execution_count": 3,
   "metadata": {},
   "outputs": [
    {
     "name": "stdout",
     "output_type": "stream",
     "text": [
      "false\n"
     ]
    }
   ],
   "source": [
    "int x = 0;\n",
    "int y= 1;\n",
    "\n",
    "System.out.println(x == y);"
   ]
  },
  {
   "cell_type": "markdown",
   "metadata": {},
   "source": [
    "## Homework "
   ]
  },
  {
   "cell_type": "markdown",
   "metadata": {},
   "source": [
    "### 2009 FRQ 3B"
   ]
  },
  {
   "cell_type": "code",
   "execution_count": null,
   "metadata": {},
   "outputs": [],
   "source": [
    "\n",
    "public int getChargeStartTime(int chargeTime)  // determines start time to charge battery at lowest cost \n",
    "{\n",
    " int startTime = 0;\n",
    " for (int i = 1; i < 24; i++)  // iterate through the differeant start times with a returned values <= 23\n",
    " {\n",
    " if (this.getChargingCost(i, chargeTime)\n",
    " < this.getChargingCost(startTime, chargeTime))\n",
    " {\n",
    " startTime = i;\n",
    " }\n",
    " }\n",
    " return startTime;\n",
    "}"
   ]
  },
  {
   "cell_type": "markdown",
   "metadata": {},
   "source": [
    "### 2017 FRQ 1B"
   ]
  },
  {
   "cell_type": "code",
   "execution_count": null,
   "metadata": {},
   "outputs": [],
   "source": [
    "public boolean isStrictlyIncreasing(){\n",
    "    for(int i = 1; i < digitList.size(); i++){  // iterate through the digits \n",
    "        if (digitList.get(i-1).compareTo(digitList.get(i)) >= 0)\n",
    "        {\n",
    "            return false;\n",
    "        }\n",
    "        else\n",
    "        {\n",
    "            return true;\n",
    "        }\n",
    "    }\n",
    "}"
   ]
  },
  {
   "cell_type": "markdown",
   "metadata": {},
   "source": [
    "### 2019 FRQ 3B"
   ]
  },
  {
   "cell_type": "code",
   "execution_count": null,
   "metadata": {},
   "outputs": [],
   "source": [
    "public boolean isBalanced(ArrayList<String> delimiters) {\n",
    "    int open = 0;\n",
    "    int close = 0;\n",
    "    for (String d: delimiters) {\n",
    "        if (d.equals(openDel)) {\n",
    "            open++;\n",
    "        } else if (d.equals(closeDel)) {\n",
    "            close++;\n",
    "        }\n",
    "\n",
    "        if (close > open) return false; \n",
    "    }\n",
    "    return open == close; \n",
    "}"
   ]
  }
 ],
 "metadata": {
  "kernelspec": {
   "display_name": "Java",
   "language": "java",
   "name": "java"
  },
  "language_info": {
   "codemirror_mode": "java",
   "file_extension": ".jshell",
   "mimetype": "text/x-java-source",
   "name": "java",
   "pygments_lexer": "java",
   "version": "11.0.16+8-post-Ubuntu-0ubuntu120.04"
  },
  "orig_nbformat": 4
 },
 "nbformat": 4,
 "nbformat_minor": 2
}
