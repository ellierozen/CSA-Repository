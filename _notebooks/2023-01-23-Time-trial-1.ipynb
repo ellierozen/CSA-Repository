{
 "cells": [
  {
   "attachments": {},
   "cell_type": "markdown",
   "metadata": {},
   "source": [
    "# 66 Question Time Trial Reflection"
   ]
  },
  {
   "attachments": {},
   "cell_type": "markdown",
   "metadata": {},
   "source": [
    "### Afterthoughts \n",
    "\n",
    "I thought that trying to do it in an hour and a half was the biggest constraint of the assignment. For the questions that were harder, or that I was spending too much time on, I took my best educated guess and moved on. I am happy college board provides explainations for the wrong and write answers after they give the score back.  "
   ]
  },
  {
   "attachments": {},
   "cell_type": "markdown",
   "metadata": {},
   "source": [
    "![](images/q-5.png)\n",
    "\n",
    "- I forgot to change the operand of or to and but the rest of the logical operators were correct\n",
    "\n",
    "![](images/q-16.png)\n",
    "\n",
    "- two-dimensional arrays are stored as arrays of one-dimensional arrays. Line 8\n",
    " is intended to assign to row, a one-dimensional array of int values, a single row of the two-dimensional array arr. The original version of line 8\n",
    " attempts to assign a row of col, but col is not a two-dimensional array.\n",
    "\n",
    "![](images/dogcat.png)\n",
    "- Correct. Since the original expression prints \"dog\" when a < b || c != d evaluates to true, an equivalent code segment would print \"cat\" when the negative of the expression, or !(a < b || c != d), evaluates to true. Applying De Morgan’s laws produces the equivalent Boolean expression a >= b && c == d for the case when \"cat\" should be printed.\n",
    "\n",
    "\n",
    "![](images/q-27.png)\n",
    "- you needed to insert the statement lenCount = 0; between lines 12 and 13. But i said for it to be between 10 and 11 "
   ]
  }
 ],
 "metadata": {
  "kernelspec": {
   "display_name": "Java",
   "language": "java",
   "name": "java"
  },
  "language_info": {
   "name": "java",
   "version": "3.8.10 (default, Jun 22 2022, 20:18:18) \n[GCC 9.4.0]"
  },
  "orig_nbformat": 4,
  "vscode": {
   "interpreter": {
    "hash": "916dbcbb3f70747c44a77c7bcd40155683ae19c65e1c03b4aa3499c5328201f1"
   }
  }
 },
 "nbformat": 4,
 "nbformat_minor": 2
}
