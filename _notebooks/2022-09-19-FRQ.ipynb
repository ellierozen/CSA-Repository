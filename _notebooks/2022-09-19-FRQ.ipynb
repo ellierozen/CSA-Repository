{
 "cells": [
  {
   "cell_type": "markdown",
   "metadata": {},
   "source": [
    "- Write the static method numberOfLeapYears, which returns the number of leap years between \n",
    "year1 and year2, inclusive."
   ]
  },
  {
   "cell_type": "markdown",
   "metadata": {},
   "source": [
    "public satic int numberOfLeapYears(int year 1, int year 2)\n",
    "{\n",
    "    int count = 0\n",
    "    for ( int i = year 1 <= year 2; i++)\n",
    "    { \n",
    "      if (isLeapYear(i))\n",
    "        {\n",
    "            count++; \n",
    "        }\n",
    "    }\n",
    "    \n",
    "    return count;\n",
    "\n",
    "}\n"
   ]
  }
 ],
 "metadata": {
  "kernelspec": {
   "display_name": "Java",
   "language": "java",
   "name": "java"
  },
  "language_info": {
   "codemirror_mode": "java",
   "file_extension": ".jshell",
   "mimetype": "text/x-java-source",
   "name": "Java",
   "pygments_lexer": "java",
   "version": "11.0.16+8-post-Ubuntu-0ubuntu120.04"
  },
  "orig_nbformat": 4
 },
 "nbformat": 4,
 "nbformat_minor": 2
}
