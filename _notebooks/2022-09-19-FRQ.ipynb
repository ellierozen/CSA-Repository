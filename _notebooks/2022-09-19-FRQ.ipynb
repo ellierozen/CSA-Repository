{
 "cells": [
  {
   "cell_type": "markdown",
   "metadata": {},
   "source": [
    "# 2019 FRQ"
   ]
  },
  {
   "cell_type": "markdown",
   "metadata": {},
   "source": [
    "## Key points \n",
    "- Calling methods ; in this case a return method "
   ]
  },
  {
   "cell_type": "markdown",
   "metadata": {},
   "source": [
    "## Scoring Guidelines \n",
    "a.\n",
    "- +1 Initializes a numeric variable\n",
    "- +1 Loops through each necessary year in the range\n",
    "- +1 Calls isLeapYear on some valid year in the range\n",
    "- +1 Updates count based on result of calling isLeapYear\n",
    "- +1 Returns count of leap year\n",
    "b.\n",
    "- +1 Calls firstDayOfYear\n",
    "- +1 Calls dayOfYear\n",
    "- +1 Calculates the value representing the day of the week\n",
    "- +1 Returns the calculated value\n"
   ]
  },
  {
   "cell_type": "markdown",
   "metadata": {},
   "source": [
    "Write the static method numberOfLeapYears, which returns the number of leap years between \n",
    "year1 and year2, inclusive."
   ]
  },
  {
   "cell_type": "code",
   "execution_count": null,
   "metadata": {},
   "outputs": [],
   "source": [
    "public static int numberOfLeapYears(int year 1, int year 2)\n",
    "{\n",
    "    int count = 0\n",
    "    for ( int i = year 1 <= year 2; i++)\n",
    "    { \n",
    "      if (isLeapYear(i))\n",
    "        {\n",
    "            count++; \n",
    "        }\n",
    "    }\n",
    "    \n",
    "    return count;\n",
    "\n",
    "}\n"
   ]
  },
  {
   "cell_type": "markdown",
   "metadata": {},
   "source": [
    "Write the static method dayOfWeek, which returns the integer value representing the day of the week for the given date (month, day, year), where 0 denotes Sunday, 1 denotes Monday, ..., and 6 denotes Saturday. "
   ]
  },
  {
   "cell_type": "code",
   "execution_count": null,
   "metadata": {},
   "outputs": [],
   "source": [
    "public static int dayOfWeek(int month, int day, int year){\n",
    "    int firstDay = firstDayOfYear(year);\n",
    "    int nDay = dayOfYear(month, day, year);\n",
    "    int returnDay = (startDay + nDay - 1) % 7;\n",
    "    return returnDay;\n",
    "}"
   ]
  }
 ],
 "metadata": {
  "kernelspec": {
   "display_name": "Java",
   "language": "java",
   "name": "java"
  },
  "language_info": {
   "codemirror_mode": "java",
   "file_extension": ".jshell",
   "mimetype": "text/x-java-source",
   "name": "java",
   "pygments_lexer": "java",
   "version": "11.0.16+8-post-Ubuntu-0ubuntu120.04"
  },
  "orig_nbformat": 4
 },
 "nbformat": 4,
 "nbformat_minor": 2
}
