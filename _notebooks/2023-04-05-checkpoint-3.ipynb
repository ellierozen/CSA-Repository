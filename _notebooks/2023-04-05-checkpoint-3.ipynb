{
 "cells": [
  {
   "cell_type": "code",
   "execution_count": 2,
   "metadata": {
    "vscode": {
     "languageId": "java"
    }
   },
   "outputs": [
    {
     "name": "stdout",
     "output_type": "stream",
     "text": [
      "Time for Selection Sort:8100.0\n",
      "Time for Bubble Sort:20700.0\n",
      "Time for Merge Sort:28500.0\n",
      "Time for Insertion Sort:14600.0\n"
     ]
    }
   ],
   "source": [
    "public class sortTimes {\n",
    "    // selection sort\n",
    "    public static void selectionSort(int[] arr) {\n",
    "        int n = arr.length;\n",
    "        for (int i = 0; i < n - 1; i++) {\n",
    "            int minIndex = i;\n",
    "            for (int j = i + 1; j < n; j++) {\n",
    "                if (arr[j] < arr[minIndex]) {\n",
    "                    minIndex = j;\n",
    "                }\n",
    "            }\n",
    "            int temp = arr[minIndex];\n",
    "            arr[minIndex] = arr[i];\n",
    "            arr[i] = temp;\n",
    "    }\n",
    "    }\n"
   ]
  }
 ],
 "metadata": {
  "kernelspec": {
   "display_name": "Java",
   "language": "java",
   "name": "java"
  },
  "language_info": {
   "codemirror_mode": "java",
   "file_extension": ".jshell",
   "mimetype": "text/x-java-source",
   "name": "Java",
   "pygments_lexer": "java",
   "version": "11.0.16+8-post-Ubuntu-0ubuntu120.04"
  },
  "orig_nbformat": 4
 },
 "nbformat": 4,
 "nbformat_minor": 2
}
