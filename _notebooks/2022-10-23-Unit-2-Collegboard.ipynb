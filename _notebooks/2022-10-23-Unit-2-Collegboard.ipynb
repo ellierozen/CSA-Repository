{
 "cells": [
  {
   "cell_type": "markdown",
   "metadata": {},
   "source": [
    "# Unit 2 Collegboard Object Types"
   ]
  },
  {
   "cell_type": "markdown",
   "metadata": {},
   "source": [
    "- OOP\n",
    "    - programming paradigm that organizes software design \n",
    "\n",
    "- Classes and objects\n",
    "    - classes : templates/ blueprint where objects are created\n",
    "    - objects: instances of a class where specific objects are made from it \n",
    "    - methods: functions that do a specific task assigned \n",
    "    - changing one object wont change another \n",
    "- Constructors \n",
    "    - initialize attribute for an object\n"
   ]
  },
  {
   "cell_type": "markdown",
   "metadata": {},
   "source": [
    "# 2006 FRQ"
   ]
  },
  {
   "cell_type": "markdown",
   "metadata": {},
   "source": [
    "## 2a"
   ]
  },
  {
   "cell_type": "code",
   "execution_count": null,
   "metadata": {},
   "outputs": [],
   "source": [
    "public double purchasePrice () {\n",
    "    double purchasPrice; \n",
    "    purchasePrice = getListprice * rate;\n",
    "    return purchasePrice;\n",
    "}"
   ]
  },
  {
   "cell_type": "markdown",
   "metadata": {},
   "source": [
    "## 3a"
   ]
  },
  {
   "cell_type": "code",
   "execution_count": null,
   "metadata": {},
   "outputs": [],
   "source": [
    "public int compareCustomer(Customer other){\n",
    "    int nameCompare = getName().compareTo(other.getName());\n",
    "    \n",
    "    if (nameCompare != 0) {\n",
    "     return nameCompare;\n",
    "    }\n",
    "\n",
    "    else {\n",
    "     return getID();\n",
    "    } \n",
    "   }"
   ]
  }
 ],
 "metadata": {
  "kernelspec": {
   "display_name": "Java",
   "language": "java",
   "name": "java"
  },
  "language_info": {
   "name": "java",
   "version": "3.8.10"
  },
  "orig_nbformat": 4,
  "vscode": {
   "interpreter": {
    "hash": "916dbcbb3f70747c44a77c7bcd40155683ae19c65e1c03b4aa3499c5328201f1"
   }
  }
 },
 "nbformat": 4,
 "nbformat_minor": 2
}
