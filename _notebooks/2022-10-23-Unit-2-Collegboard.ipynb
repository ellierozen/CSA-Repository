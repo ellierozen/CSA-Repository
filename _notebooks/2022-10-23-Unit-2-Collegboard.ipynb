{
 "cells": [
  {
   "cell_type": "markdown",
   "metadata": {},
   "source": [
    "# Unit 2 Collegboard Object Types"
   ]
  },
  {
   "cell_type": "markdown",
   "metadata": {},
   "source": [
    "- OOP\n",
    "    - programming paradigm that organizes software design \n",
    "\n",
    "- Classes and objects\n",
    "    - classes : templates/ blueprint where objects are created\n",
    "    - objects: instances of a class where specific objects are made from it \n",
    "    - methods: functions that do a specific task assigned \n",
    "    - changing one object wont change another \n",
    "- Constructors \n",
    "    - initialize attribute for an object\n"
   ]
  },
  {
   "cell_type": "markdown",
   "metadata": {},
   "source": [
    "## New vocab\n",
    "Wrapper Classes \n",
    "-  A wrapper class in Java is a class that contains or “wraps” primitive data types as an object\n",
    "- Wrapper classes provide static methods that allow you to perform some basic number operations, such as converting data from a string to a number\n",
    "- Creating wrapper objects, such as Integer and Double objects can be done in a similar way to other objects. The constructor takes a single value and converts it into the object version of that value\n",
    "- Importance: \n",
    "    - Allows null values\n",
    "    - Can be used in collection such as List, Map, etc.\n",
    "    - Can be used in methods which accepts arguments of Object type.\n",
    "    - Can be created like Objects using new ClassName() like other objects:\n",
    "    - Makes available all the functions that Object class has such as clone(), equals(), hashCode(), toString() etc.\n",
    "Example:\n",
    "Integer y = new Integer(17);\n",
    "Double z = new Double(3.14);\n",
    "\n",
    "Concatenation\n",
    "- mainly used to add two strings together \n",
    "Ex: \n",
    "System.out.println(Ellie + \"went to the park with\" + Charlie)\n",
    "rules: The concatenation character is mandatory when:\n",
    "- An alphanumeric character follows a variable symbol.\n",
    "- A left parenthesis that does not enclose a subscript follows a variable symbol.\n",
    "- A period (.) is to be generated. Two periods must be specified in the concatenated string following a variable symbol.\n",
    "- The concatenation character is not required when:\n",
    "- An ordinary character string precedes a variable symbol.\n",
    "- A special character, except a left parenthesis or a period, is to follow a variable symbol.\n",
    "- A variable symbol follows another variable symbol.\n",
    "- A variable symbol is used with a subscript. The concatenation character must not be used between a variable symbol and its subscript; otherwise, the characters are considered a concatenated string and not a subscripted variable symbol.\n",
    "\n",
    "Math Class \n",
    "- The Math class is a class that only contains static methods that are used for specific purposes\n",
    "- since the math class contains only static methods, you do not need to instantiate an object to use it. Static methods are called using the dot operator along with the class name.\n",
    "Ex:  int x = Math.abs(-5); takes absolute value of negative 5\n",
    "- The random method takes no input and returns a random number from zero to one, inclusive of zero, but not inclusive of one.\n",
    "Ex: \n",
    "double ranNum = Math.random() * 10; this takes a random value from 0 to 10\n",
    "- You must include the multiplier inside parentheses along with the random call. If you do not, you will end up casting only the Math.random() part, and since it is always less than one, your random function will always result in zero. "
   ]
  },
  {
   "cell_type": "markdown",
   "metadata": {},
   "source": [
    "### Wrapper class tangibles"
   ]
  },
  {
   "cell_type": "code",
   "execution_count": 1,
   "metadata": {},
   "outputs": [
    {
     "name": "stdout",
     "output_type": "stream",
     "text": [
      "[222, 222]\n"
     ]
    }
   ],
   "source": [
    "int x = 222;\n",
    "ArrayList<Integer> list = new ArrayList<Integer>();\n",
    "Integer X = new Integer(x);\n",
    "list.add(x);\n",
    "list.add(x);\n",
    "System.out.println(list);"
   ]
  },
  {
   "cell_type": "markdown",
   "metadata": {},
   "source": [
    "### Concatenation tangibles"
   ]
  },
  {
   "cell_type": "code",
   "execution_count": 3,
   "metadata": {},
   "outputs": [
    {
     "name": "stdout",
     "output_type": "stream",
     "text": [
      "Ellie has a dog\n"
     ]
    }
   ],
   "source": [
    "String x = \"Ellie\";\n",
    "String y = \" has a dog\";\n",
    "\n",
    "System.out.println(x + y);"
   ]
  },
  {
   "cell_type": "markdown",
   "metadata": {},
   "source": [
    "### Math class tangible"
   ]
  },
  {
   "cell_type": "code",
   "execution_count": 5,
   "metadata": {},
   "outputs": [
    {
     "name": "stdout",
     "output_type": "stream",
     "text": [
      "50\n"
     ]
    }
   ],
   "source": [
    "int ranNum = (int)Math.random() * 25 + 50;\n",
    "System.out.println(ranNum);"
   ]
  },
  {
   "cell_type": "markdown",
   "metadata": {},
   "source": [
    "# 2006 FRQ"
   ]
  },
  {
   "cell_type": "markdown",
   "metadata": {},
   "source": [
    "## 2a"
   ]
  },
  {
   "cell_type": "code",
   "execution_count": null,
   "metadata": {},
   "outputs": [],
   "source": [
    "public double purchasePrice () {\n",
    "    double purchasPrice; \n",
    "    purchasePrice = getListprice * rate;\n",
    "    return purchasePrice;\n",
    "}"
   ]
  },
  {
   "cell_type": "markdown",
   "metadata": {},
   "source": [
    "## 3a"
   ]
  },
  {
   "cell_type": "code",
   "execution_count": null,
   "metadata": {},
   "outputs": [],
   "source": [
    "public int compareCustomer(Customer other){\n",
    "    int nameCompare = getName().compareTo(other.getName());\n",
    "    \n",
    "    if (nameCompare != 0) {\n",
    "     return nameCompare;\n",
    "    }\n",
    "\n",
    "    else {\n",
    "     return getID();\n",
    "    } \n",
    "   }"
   ]
  },
  {
   "cell_type": "markdown",
   "metadata": {},
   "source": [
    "## Goblin Fight"
   ]
  },
  {
   "cell_type": "code",
   "execution_count": 1,
   "metadata": {},
   "outputs": [],
   "source": [
    "public class Goblin {\n",
    "    private String name;\n",
    "    private int HP;\n",
    "    private int DMG;\n",
    "    private double hitChance;\n",
    "\n",
    "    public String getName() {\n",
    "        return name;\n",
    "    }\n",
    "\n",
    "    public int getHP() {\n",
    "        return HP;\n",
    "    }\n",
    "\n",
    "    public int getDMG() {\n",
    "        return DMG;\n",
    "    }\n",
    "\n",
    "    public double getHitChance() {\n",
    "        return hitChance;\n",
    "    }\n",
    "\n",
    "    public boolean isAlive() {\n",
    "        if (this.HP > 0) {\n",
    "            return true;\n",
    "        } else {\n",
    "            return false;\n",
    "        }\n",
    "    }\n",
    "\n",
    "    public void setName(String newName) {\n",
    "        this.name = newName;\n",
    "    }\n",
    "\n",
    "    public void setHP(int newHP) {\n",
    "        this.HP = newHP;\n",
    "    }\n",
    "\n",
    "    public void takeDMG(int takenDamage) {\n",
    "        this.HP -= takenDamage;\n",
    "    }\n",
    "\n",
    "    public void setDMG(int newDMG) {\n",
    "        this.DMG = newDMG;\n",
    "    }\n",
    "\n",
    "    public void setHitChance(double newHitChance) {\n",
    "        this.hitChance = newHitChance;\n",
    "    }\n",
    "}\n"
   ]
  },
  {
   "cell_type": "code",
   "execution_count": 2,
   "metadata": {},
   "outputs": [
    {
     "name": "stdout",
     "output_type": "stream",
     "text": [
      "bob attacks joe the great!\n",
      "bob misses...\n",
      "joe the great HP: 4\n",
      "\n",
      "joe the great attacks bob!\n",
      "joe the great hits!\n",
      "bob takes 1 damage\n",
      "bob HP: 11\n",
      "\n",
      "bob attacks joe the great!\n",
      "bob misses...\n",
      "joe the great HP: 4\n",
      "\n",
      "joe the great attacks bob!\n",
      "joe the great hits!\n",
      "bob takes 1 damage\n",
      "bob HP: 10\n",
      "\n",
      "bob attacks joe the great!\n",
      "bob hits!\n",
      "joe the great takes 2 damage\n",
      "joe the great HP: 2\n",
      "\n",
      "joe the great attacks bob!\n",
      "joe the great hits!\n",
      "bob takes 1 damage\n",
      "bob HP: 9\n",
      "\n",
      "bob attacks joe the great!\n",
      "bob misses...\n",
      "joe the great HP: 2\n",
      "\n",
      "joe the great attacks bob!\n",
      "joe the great hits!\n",
      "bob takes 1 damage\n",
      "bob HP: 8\n",
      "\n",
      "bob attacks joe the great!\n",
      "bob misses...\n",
      "joe the great HP: 2\n",
      "\n",
      "joe the great attacks bob!\n",
      "joe the great hits!\n",
      "bob takes 1 damage\n",
      "bob HP: 7\n",
      "\n",
      "bob attacks joe the great!\n",
      "bob misses...\n",
      "joe the great HP: 2\n",
      "\n",
      "joe the great attacks bob!\n",
      "joe the great hits!\n",
      "bob takes 1 damage\n",
      "bob HP: 6\n",
      "\n",
      "bob attacks joe the great!\n",
      "bob hits!\n",
      "joe the great takes 2 damage\n",
      "joe the great HP: 0\n",
      "\n",
      "joe the great attacks bob!\n",
      "joe the great hits!\n",
      "bob takes 1 damage\n",
      "bob HP: 5\n",
      "\n",
      "joe the great has perished\n"
     ]
    }
   ],
   "source": [
    "import java.lang.Math;\n",
    "\n",
    "public class Duel {\n",
    "\n",
    "    public static void attack(Goblin attackerGoblin, Goblin attackeeGoblin) {\n",
    "\n",
    "        System.out.println(attackerGoblin.getName() + \" attacks \" + attackeeGoblin.getName() + \"!\");\n",
    "        if (Math.random() < attackerGoblin.getHitChance()) {\n",
    "            attackeeGoblin.takeDMG(attackerGoblin.getDMG());\n",
    "            System.out.println(attackerGoblin.getName() + \" hits!\");\n",
    "            System.out.println(attackeeGoblin.getName() + \" takes \" + attackerGoblin.getDMG() + \" damage\");\n",
    "        } else {\n",
    "            System.out.println(attackerGoblin.getName() + \" misses...\");\n",
    "        }\n",
    "\n",
    "        System.out.println(attackeeGoblin.getName() + \" HP: \" + attackeeGoblin.getHP());\n",
    "        System.out.println();\n",
    "    }\n",
    "\n",
    "    public static void fight(Goblin goblin1, Goblin goblin2) {\n",
    "        while (goblin1.isAlive() && goblin2.isAlive()) {\n",
    "            \n",
    "            attack(goblin1, goblin2);\n",
    "\n",
    "            if (!goblin1.isAlive()) {\n",
    "                System.out.println(goblin1.getName() + \" has perished\");\n",
    "                break;\n",
    "            }\n",
    "\n",
    "            attack(goblin2, goblin1);\n",
    "\n",
    "            if (!goblin2.isAlive()) {\n",
    "                System.out.println(goblin2.getName() + \" has perished\");\n",
    "                break;\n",
    "            }\n",
    "        }\n",
    "    }\n",
    "\n",
    "    public static void main(String[] args) {\n",
    "        Goblin goblin1 = new Goblin();\n",
    "        goblin1.setName(\"bob\");\n",
    "        goblin1.setHP(12);\n",
    "        goblin1.setDMG(2);\n",
    "        goblin1.setHitChance(0.50);\n",
    "\n",
    "        Goblin goblin2 = new Goblin();\n",
    "        goblin2.setName(\"joe the great\");\n",
    "        goblin2.setHP(4);\n",
    "        goblin2.setDMG(1);\n",
    "        goblin2.setHitChance(1);\n",
    "\n",
    "        fight(goblin1, goblin2);\n",
    "    }\n",
    "}\n",
    "\n",
    "Duel.main(null);"
   ]
  }
 ],
 "metadata": {
  "kernelspec": {
   "display_name": "Java",
   "language": "java",
   "name": "java"
  },
  "language_info": {
   "codemirror_mode": "java",
   "file_extension": ".jshell",
   "mimetype": "text/x-java-source",
   "name": "java",
   "pygments_lexer": "java",
   "version": "11.0.16+8-post-Ubuntu-0ubuntu120.04"
  },
  "orig_nbformat": 4,
  "vscode": {
   "interpreter": {
    "hash": "916dbcbb3f70747c44a77c7bcd40155683ae19c65e1c03b4aa3499c5328201f1"
   }
  }
 },
 "nbformat": 4,
 "nbformat_minor": 2
}
