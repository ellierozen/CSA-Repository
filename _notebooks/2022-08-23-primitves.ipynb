{
 "cells": [
  {
   "cell_type": "markdown",
   "metadata": {},
   "source": [
    "# Primitives \n",
    "> Using Primitives and Wrappers \n"
   ]
  },
  {
   "cell_type": "markdown",
   "metadata": {},
   "source": [
    "### Use of Int, Double, and String "
   ]
  },
  {
   "cell_type": "code",
   "execution_count": 10,
   "metadata": {},
   "outputs": [
    {
     "name": "stdout",
     "output_type": "stream",
     "text": [
      "3\n",
      "2.3\n",
      "HelloWorld\n"
     ]
    }
   ],
   "source": [
    "int x = 3;\n",
    "System.out.println(x);\n",
    "//For a whole number use an Integer \n",
    "double y = 2.3;\n",
    "System.out.println(y);\n",
    "//To use decimal points use a double\n",
    "String w = \"Hello\";\n",
    "String m = \"World\";\n",
    "System.out.println(w + m);\n",
    "//For letters/sentences use strings "
   ]
  },
  {
   "cell_type": "markdown",
   "metadata": {},
   "source": [
    "### Booleans"
   ]
  },
  {
   "cell_type": "code",
   "execution_count": 13,
   "metadata": {},
   "outputs": [
    {
     "name": "stdout",
     "output_type": "stream",
     "text": [
      "Ellie has a dog!\n"
     ]
    }
   ],
   "source": [
    "boolean ellieHasADog = true;\n",
    "boolean ellieHasAFish= false;\n",
    "\n",
    "if (ellieHasADog)\n",
    "{\n",
    "    System.out.println(\"Ellie has a dog!\");\n",
    "}\n",
    "\n",
    "else if (ellieHasAFish)\n",
    "{\n",
    "    System.out.println(\"Ellie has a fish?\");\n",
    "\n",
    "}"
   ]
  },
  {
   "cell_type": "markdown",
   "metadata": {},
   "source": [
    "### Wrapper String"
   ]
  },
  {
   "cell_type": "code",
   "execution_count": 3,
   "metadata": {},
   "outputs": [
    {
     "name": "stdout",
     "output_type": "stream",
     "text": [
      "luckyStr: 444\n",
      "length is:3\n"
     ]
    }
   ],
   "source": [
    "\n",
    "    Integer lucky = 444;\n",
    "    String luckyStr = lucky.toString();\n",
    "    System.out.println(\"luckyStr: \" + luckyStr);\n",
    "\n",
    "    System.out.println(\"length is:\"+luckyStr.length());\n",
    "    \n",
    "\n"
   ]
  },
  {
   "cell_type": "markdown",
   "metadata": {},
   "source": [
    "### Casting"
   ]
  },
  {
   "cell_type": "code",
   "execution_count": 6,
   "metadata": {},
   "outputs": [
    {
     "name": "stdout",
     "output_type": "stream",
     "text": [
      "The first number is-2.5\n",
      "The first number rounded is-3\n"
     ]
    }
   ],
   "source": [
    "\n",
    "double firstNumber = 5 / 2.0;\n",
    "System.out.println(\"The first number is-\" + firstNumber);\n",
    "int firstNumberRounded = (int)(firstNumber + 0.5);\n",
    "System.out.println(\"The first number rounded is-\" + firstNumberRounded);\n",
    "    \n"
   ]
  }
 ],
 "metadata": {
  "kernelspec": {
   "display_name": "Java",
   "language": "java",
   "name": "java"
  },
  "language_info": {
   "codemirror_mode": "java",
   "file_extension": ".jshell",
   "mimetype": "text/x-java-source",
   "name": "java",
   "pygments_lexer": "java",
   "version": "11.0.16+8-post-Ubuntu-0ubuntu120.04"
  },
  "orig_nbformat": 4,
  "vscode": {
   "interpreter": {
    "hash": "916dbcbb3f70747c44a77c7bcd40155683ae19c65e1c03b4aa3499c5328201f1"
   }
  }
 },
 "nbformat": 4,
 "nbformat_minor": 2
}
