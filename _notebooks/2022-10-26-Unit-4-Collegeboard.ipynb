{
 "cells": [
  {
   "cell_type": "markdown",
   "metadata": {},
   "source": [
    "# Unit 4 Iteration College Board Homework"
   ]
  },
  {
   "cell_type": "markdown",
   "metadata": {},
   "source": [
    "## Loops and Iteration\n",
    "- way to simplify code that would be repeated multiple times \n",
    "- examples : while loop, for loop, recursion loop, nested iteration \n",
    "- while loop : sequence of code that runs while a condition is met \n",
    "- for loop : loops for each time the condition is met \n",
    "- nested iteration : technique to simplify the code \n",
    "   - basically loop inside of a loop "
   ]
  },
  {
   "cell_type": "markdown",
   "metadata": {},
   "source": [
    "## New Vocab \n",
    "\n",
    "For loop \n",
    "- for loops allow us to repeat code a fixed number of times\n",
    "Ex:\n",
    "for (int i = 0; i < COUNT; i++) \n",
    "{\n",
    "    blah \n",
    "}\n",
    "- The first part initializes the loop variable, the second part tests some condition and the third part increments or decrements the loop variable. Each part of the for loop is separated by a semicolon (;)\n",
    "\n",
    "Enhanced for loop \n",
    "- The enhanced for loop repeatedly executes a block of statements by iterating over a array or collection elements.\n",
    "Ex:\n",
    "   for (T item : elements_of_type_T) \n",
    "        {\n",
    "            //custom code\n",
    "        }\n",
    "\n",
    "While loop vs Do while \n",
    "*While*\n",
    "- As long as the boolean expression remains true, code within the while loop will be executed\n",
    "- The moment that the boolean expression becomes false, code outside of the while loop will be executed; the loop is done.\n",
    "- You must exercise caution when using while loops to avoid the dreaded infinite loop\n",
    "Ex:\n",
    "while(boolean expression)\n",
    "{\n",
    "   // code block inside of while loop to execute if the boolean expression is true\n",
    "}\n",
    "*Do while*\n",
    "-  do-while loop executes all of the phrases inside the loop precisely once before assessing the loop’s requirement, and it runs at least once irrespective of whether the situation is fulfilled\n",
    "- do at start and while condition at end \n",
    "\n",
    "Nested Loops \n",
    "- A nested iteration statement is an iteration statement that appears in the body of another iteration statement.\n",
    "Ex:\n",
    "for (int row = 1; row < 6; row++) {\n",
    "    // Original loop inside\n",
    "    for(int count = 1; count < 6; count++) {\n",
    "        System.out.print(count * row + \" \" );\n",
    "    }\n"
   ]
  },
  {
   "cell_type": "markdown",
   "metadata": {},
   "source": [
    "### for loop tangible "
   ]
  },
  {
   "cell_type": "code",
   "execution_count": 1,
   "metadata": {
    "vscode": {
     "languageId": "java"
    }
   },
   "outputs": [
    {
     "name": "stdout",
     "output_type": "stream",
     "text": [
      "0\n",
      "1\n",
      "2\n",
      "3\n",
      "4\n",
      "5\n",
      "6\n",
      "7\n",
      "8\n",
      "9\n"
     ]
    }
   ],
   "source": [
    "\n",
    "for(int i = 0; i < 10; i++)\n",
    "        {\n",
    "            System.out.println(i);\n",
    "        }"
   ]
  },
  {
   "cell_type": "markdown",
   "metadata": {},
   "source": [
    "### while loop tangible"
   ]
  },
  {
   "cell_type": "code",
   "execution_count": 2,
   "metadata": {
    "vscode": {
     "languageId": "java"
    }
   },
   "outputs": [
    {
     "name": "stdout",
     "output_type": "stream",
     "text": [
      "Initiating countdown:\n",
      "5...\n",
      "4...\n",
      "3...\n",
      "2...\n",
      "1...\n",
      "0...\n"
     ]
    }
   ],
   "source": [
    "int i = 5;\n",
    "System.out.println(\"Initiating countdown:\");\n",
    "while(i >= 0) {\n",
    "  System.out.println(i + \"...\");\n",
    "  i--;\n",
    "}"
   ]
  },
  {
   "cell_type": "markdown",
   "metadata": {},
   "source": [
    "### do while loop tangible"
   ]
  },
  {
   "cell_type": "code",
   "execution_count": 1,
   "metadata": {
    "vscode": {
     "languageId": "java"
    }
   },
   "outputs": [
    {
     "name": "stdout",
     "output_type": "stream",
     "text": [
      "x is 1\n"
     ]
    }
   ],
   "source": [
    "boolean bool = false;\n",
    "\n",
    "do {\n",
    "    System.out.println(\"x is 1\");\n",
    "  } while (bool);"
   ]
  },
  {
   "cell_type": "markdown",
   "metadata": {},
   "source": [
    "### nested loop tangible"
   ]
  },
  {
   "cell_type": "code",
   "execution_count": 3,
   "metadata": {
    "vscode": {
     "languageId": "java"
    }
   },
   "outputs": [
    {
     "name": "stdout",
     "output_type": "stream",
     "text": [
      "1 2 3 4 5 \n",
      "2 4 6 8 10 \n",
      "3 6 9 12 15 \n",
      "4 8 12 16 20 \n",
      "5 10 15 20 25 \n"
     ]
    }
   ],
   "source": [
    "for (int row = 1; row < 6; row++) {\n",
    "    // Original loop inside\n",
    "    for(int count = 1; count < 6; count++) {\n",
    "        System.out.print(count * row + \" \" );\n",
    "    }\n",
    "    System.out.println();\n",
    "}"
   ]
  },
  {
   "cell_type": "code",
   "execution_count": null,
   "metadata": {
    "vscode": {
     "languageId": "java"
    }
   },
   "outputs": [],
   "source": [
    "![]({{site.baseurl}}/images/iteration.png \"https://www.google.com\")"
   ]
  },
  {
   "cell_type": "code",
   "execution_count": null,
   "metadata": {
    "vscode": {
     "languageId": "java"
    }
   },
   "outputs": [],
   "source": [
    "public class LoopConversion \n",
    "{\n",
    "    public static void main(String[] args) \n",
    "    {\n",
    "        int count = 0;\n",
    "        //convert to for loop\n",
    "        while (count < 5) //while loop example\n",
    "        {\n",
    "            System.out.println(\"count is \" + count);\n",
    "            count++;\n",
    "        }\n",
    "    }\n",
    "}"
   ]
  },
  {
   "cell_type": "code",
   "execution_count": null,
   "metadata": {
    "vscode": {
     "languageId": "java"
    }
   },
   "outputs": [],
   "source": [
    "public class LoopConversion \n",
    "{\n",
    "    public static void main(String[] args) \n",
    "    {\n",
    "        int count = 0;\n",
    "        //convert to for loop\n",
    "        for (int x =0 ; x<5; x++)\n",
    "        {\n",
    "            System.out.println(\"count is \" + count);\n",
    "            count++;\n",
    "        }\n",
    "    }\n",
    "}"
   ]
  },
  {
   "cell_type": "code",
   "execution_count": null,
   "metadata": {
    "vscode": {
     "languageId": "java"
    }
   },
   "outputs": [],
   "source": [
    "import java.util.Scanner;\n",
    " \n",
    "public class GFG {\n",
    "    public static void\n",
    "    guessingNumberGame()\n",
    "    {\n",
    "        // Scanner Class\n",
    "        Scanner sc = new Scanner(System.in);\n",
    " \n",
    "        // Generate the numbers\n",
    "        int number = 1 + (int)(100 * Math.random());\n",
    "        int guessNumber = 5;\n",
    " \n",
    "        int i, guess;\n",
    " \n",
    "        System.out.println(\n",
    "            \"A number is chosen between 1 and 100 --> try to guess the number with 5 tries!\");\n",
    "\n",
    "        \n",
    "        for (i = 0; i < guessNumber; i++) {\n",
    "            System.out.println(\"Guess the number:\");\n",
    "            guess = sc.nextInt();  // user input\n",
    "            if (number == guess) {\n",
    "                System.out.println(\"Congratulations! You guessed the number!\");\n",
    "                break;\n",
    "            }\n",
    "            else if (number > guess && i != guessNumber - 1) {\n",
    "                System.out.println(\"The number is greater than \" + guess);\n",
    "            }\n",
    "            else if (number < guess && i != guessNumber - 1) {\n",
    "                System.out.println(\"The number is less than \" + guess);\n",
    "            }\n",
    "        }\n",
    " \n",
    "        if (i == guessNumber) {\n",
    "            System.out.println(\"You have used all \" + guessNumber + \" tries.\");\n",
    " \n",
    "            System.out.println(\"The number was \" + number);\n",
    "        }\n",
    "    }\n",
    "\n",
    "    public static void main(String arg[])\n",
    "    {\n",
    " \n",
    "        guessingNumberGame(); //starting the game\n",
    "    }\n",
    "}\n",
    "GFG.main(null);"
   ]
  }
 ],
 "metadata": {
  "kernelspec": {
   "display_name": "Java",
   "language": "java",
   "name": "java"
  },
  "language_info": {
   "codemirror_mode": "java",
   "file_extension": ".jshell",
   "mimetype": "text/x-java-source",
   "name": "Java",
   "pygments_lexer": "java",
   "version": "11.0.16+8-post-Ubuntu-0ubuntu120.04"
  },
  "orig_nbformat": 4,
  "vscode": {
   "interpreter": {
    "hash": "916dbcbb3f70747c44a77c7bcd40155683ae19c65e1c03b4aa3499c5328201f1"
   }
  }
 },
 "nbformat": 4,
 "nbformat_minor": 2
}
