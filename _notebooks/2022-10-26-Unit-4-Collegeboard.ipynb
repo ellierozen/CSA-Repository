{
 "cells": [
  {
   "cell_type": "markdown",
   "metadata": {},
   "source": [
    "# Unit 4 Iteration College Board Homework"
   ]
  },
  {
   "cell_type": "markdown",
   "metadata": {},
   "source": [
    "## Loops and Iteration\n",
    "- way to simplify code that would be repeated multiple times \n",
    "- examples : while loop, for loop, recursion loop, nested iteration \n",
    "- while loop : sequence of code that runs while a condition is met \n",
    "- for loop : loops for each time the condition is met \n",
    "- nested iteration : technique to simplify the code \n",
    "   - basically loop inside of a loop "
   ]
  },
  {
   "cell_type": "code",
   "execution_count": null,
   "metadata": {},
   "outputs": [],
   "source": [
    "![]({{site.baseurl}}/images/iteration.png \"https://www.google.com\")"
   ]
  },
  {
   "cell_type": "code",
   "execution_count": null,
   "metadata": {},
   "outputs": [],
   "source": [
    "public class LoopConversion \n",
    "{\n",
    "    public static void main(String[] args) \n",
    "    {\n",
    "        int count = 0;\n",
    "        //convert to for loop\n",
    "        while (count < 5)\n",
    "        {\n",
    "            System.out.println(\"count is \" + count);\n",
    "            count++;\n",
    "        }\n",
    "    }\n",
    "}"
   ]
  },
  {
   "cell_type": "code",
   "execution_count": null,
   "metadata": {},
   "outputs": [],
   "source": [
    "public class LoopConversion \n",
    "{\n",
    "    public static void main(String[] args) \n",
    "    {\n",
    "        int count = 0;\n",
    "        //convert to for loop\n",
    "        for (int x =0 ; x<5; x++)\n",
    "        {\n",
    "            System.out.println(\"count is \" + count);\n",
    "            count++;\n",
    "        }\n",
    "    }\n",
    "}"
   ]
  },
  {
   "cell_type": "code",
   "execution_count": null,
   "metadata": {},
   "outputs": [],
   "source": [
    "import java.util.Scanner;\n",
    " \n",
    "public class GFG {\n",
    "    public static void\n",
    "    guessingNumberGame()\n",
    "    {\n",
    "        // Scanner Class\n",
    "        Scanner sc = new Scanner(System.in);\n",
    " \n",
    "        // Generate the numbers\n",
    "        int number = 1 + (int)(100 * Math.random());\n",
    "        int guessNumber = 5;\n",
    " \n",
    "        int i, guess;\n",
    " \n",
    "        System.out.println(\n",
    "            \"A number is chosen between 1 and 100 --> try to guess the number with 5 tries!\");\n",
    "\n",
    "        \n",
    "        for (i = 0; i < guessNumber; i++) {\n",
    "            System.out.println(\"Guess the number:\");\n",
    "            guess = sc.nextInt();  // user input\n",
    "            if (number == guess) {\n",
    "                System.out.println(\"Congratulations! You guessed the number!\");\n",
    "                break;\n",
    "            }\n",
    "            else if (number > guess && i != guessNumber - 1) {\n",
    "                System.out.println(\"The number is greater than \" + guess);\n",
    "            }\n",
    "            else if (number < guess && i != guessNumber - 1) {\n",
    "                System.out.println(\"The number is less than \" + guess);\n",
    "            }\n",
    "        }\n",
    " \n",
    "        if (i == guessNumber) {\n",
    "            System.out.println(\"You have used all \" + guessNumber + \" tries.\");\n",
    " \n",
    "            System.out.println(\"The number was \" + number);\n",
    "        }\n",
    "    }\n",
    "\n",
    "    public static void main(String arg[])\n",
    "    {\n",
    " \n",
    "        guessingNumberGame(); //starting the game\n",
    "    }\n",
    "}\n",
    "GFG.main(null);"
   ]
  }
 ],
 "metadata": {
  "kernelspec": {
   "display_name": "Java",
   "language": "java",
   "name": "java"
  },
  "language_info": {
   "name": "java",
   "version": "3.8.10"
  },
  "orig_nbformat": 4,
  "vscode": {
   "interpreter": {
    "hash": "916dbcbb3f70747c44a77c7bcd40155683ae19c65e1c03b4aa3499c5328201f1"
   }
  }
 },
 "nbformat": 4,
 "nbformat_minor": 2
}
