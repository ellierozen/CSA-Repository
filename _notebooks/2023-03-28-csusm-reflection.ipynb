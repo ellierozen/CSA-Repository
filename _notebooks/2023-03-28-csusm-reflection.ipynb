{
 "cells": [
  {
   "attachments": {},
   "cell_type": "markdown",
   "metadata": {},
   "source": [
    "# CSUSM extra credit"
   ]
  },
  {
   "attachments": {},
   "cell_type": "markdown",
   "metadata": {},
   "source": [
    "Ashley \n",
    "\n",
    "She majored in applied physics\n",
    "2017-2022\n",
    "\n",
    "Phd for material sciences and engineering\n",
    "She likes research  pHD at USD for material sciences and engineering\n",
    "\n",
    "Many failures,  but that doesn’t define you\n",
    "Smaller campus, great support system\n",
    "\n",
    "Small campus, support for stem\n",
    "\n",
    "Cal state san marcos has many doors\n",
    "\n",
    "\n",
    "JOHN\n",
    "\n",
    "He’s exactly who you would think majors in cs\n",
    "\n",
    "He majored in cs JOHN is from escondido, he was a delinquent in HS\n",
    "\n",
    "At palomar for 3 years, transferred to CSUSM during pandemic\n",
    "Now works at CSUSM\n",
    "Took 6 years to get degree\n",
    "He is gonna work for the rest of his life\n",
    "\n",
    "Cs degree is versatile\n",
    "\n",
    "Overall \n",
    "Csusm newer cal states --used to be poultry farm \n",
    "Highest leader in social mobility \n",
    "\n",
    "Computer science, computer informations, cyber security, computer engineering \n",
    "Can switch between computer related degrees \n",
    "\n",
    "Hackathon , women's hackathon \n",
    "Internships, avoid unpaid, apply even you feel underqualified \n",
    "Lots of research opportunities\n",
    "Grant vs scholarship, grant: government funded, scholarship: school private funded\n",
    "Scholarship have to be found \n",
    "Two types of loans, usually want to avoid getting loans\n",
    "Unsubsidized loan vs subsidized loan , subsidized loan don't have to worry about interest on it\n",
    "\n",
    "overall: stem program with lots of options, good financially \n"
   ]
  },
  {
   "attachments": {},
   "cell_type": "markdown",
   "metadata": {},
   "source": [
    "## Reflection"
   ]
  },
  {
   "attachments": {},
   "cell_type": "markdown",
   "metadata": {},
   "source": [
    "I enjoyed going to the extra credit opportunity and learned about the programs and CSUSM. It looks like they have a lot of buildings that are new and dedicated to STEM. I really related to Ashely when she said that she wasn't doing too hot in AP physics, and it gave me more confidence for the future. My favorite part was when I won the raffle, since I am usually not the type of person to win/get lucky. It's nice to know that CSUSM also has some women specific programs, such as the hackathon. I also learned about things that were not specific to CSUSM, such as internships. I didn't know that when you get internships in college you should go for ones that aren't unpaid. I also didn't know about subsidized vs unsubsidized loans, and I feel that this better prepared me for more financial aspects of college. "
   ]
  }
 ],
 "metadata": {
  "language_info": {
   "name": "python"
  },
  "orig_nbformat": 4
 },
 "nbformat": 4,
 "nbformat_minor": 2
}
