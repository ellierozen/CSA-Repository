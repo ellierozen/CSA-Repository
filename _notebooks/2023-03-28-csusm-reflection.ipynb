{
 "cells": [
  {
   "attachments": {},
   "cell_type": "markdown",
   "metadata": {},
   "source": [
    "# CSUSM extra credit"
   ]
  },
  {
   "attachments": {},
   "cell_type": "markdown",
   "metadata": {},
   "source": [
    "## Some quick notes "
   ]
  },
  {
   "attachments": {},
   "cell_type": "markdown",
   "metadata": {},
   "source": [
    "\n",
    "Csusm newer cal states --used to be poultry farm \n",
    "Highest leader in social mobility \n",
    "\n",
    "Computer science, computer informations, cyber security, computer engineering \n",
    "Can switch between computer related degrees \n",
    "\n",
    "Hackathon , women's hackathon \n",
    "Internships, avoid unpaid, apply even you feel underqualified \n",
    "Lots of research opportunities\n",
    "Grant vs scholarship, grant: government funded, scholarship: school private funded\n",
    "Scholarship have to be found \n",
    "Two types of loans, usually want to avoid getting loans\n",
    "Unsubsidized loan vs subsidized loan , subsidized loan don't have to worry about interest on it\n",
    "\n",
    "overall: stem program with lots of options, good financially \n"
   ]
  },
  {
   "attachments": {},
   "cell_type": "markdown",
   "metadata": {},
   "source": [
    "## Reflection"
   ]
  },
  {
   "attachments": {},
   "cell_type": "markdown",
   "metadata": {},
   "source": [
    "Starting with Ashley, I learned that she majored in applied physics and is currently trying to get her PHD for material sciences and engineering. She mentioned that she failed physics in high school, which was relieving because although I'm not failing any classes it alleviated some pressures. However I also understand that CSUSM may not be as rigorous as other colleges I want to apply to. She explained that failures don't necessarily define you. Ashley also mentioned that because CSUSM is somewhat of a smaller campus it has a really good support system, which is nice to know. The other speaker John told us he was a delinquent in HS, which is not as reassuring to hear since he didn't seem eager to elaborate on how serious this claim was. He told us that he began at Palomar for three years and then transferred to CSUSM during the pandemic. John explained how many doors there are with STEM at CSUSM and that computer science is very versatile.\n",
    "\n",
    "I enjoyed going to the extra credit opportunity and learned about the programs and CSUSM. It looks like they have a lot of buildings that are new and dedicated to STEM. My favorite part was when I won the raffle, since I am usually not the type of person to win/get lucky. It's nice to know that CSUSM also has some women specific programs, such as the hackathon. I also learned about things that were not specific to CSUSM, such as internships. I didn't know that when you get internships in college you should go for ones that aren't unpaid. I also didn't know about subsidized vs unsubsidized loans, and I feel that this better prepared me for more financial aspects of college. Although I don't have plans to apply to CSUSM, I am grateful for the opportunity to get more knowledge about college since I will be applying pretty soon. \n",
    "\n"
   ]
  }
 ],
 "metadata": {
  "language_info": {
   "name": "python"
  },
  "orig_nbformat": 4
 },
 "nbformat": 4,
 "nbformat_minor": 2
}
