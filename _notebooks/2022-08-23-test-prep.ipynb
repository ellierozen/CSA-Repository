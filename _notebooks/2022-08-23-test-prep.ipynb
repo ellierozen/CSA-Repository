{
 "cells": [
  {
   "cell_type": "markdown",
   "metadata": {},
   "source": [
    "Java- strong code j\n",
    "Puthon- weak code\n",
    "Primitives\n",
    "Data type with upper case is a wrapper but with lower case is a primitive\n",
    "Wrapper class has methods (built in code) \n"
   ]
  },
  {
   "cell_type": "code",
   "execution_count": 62,
   "metadata": {},
   "outputs": [],
   "source": [
    "public class primitives {\n",
    "    public static void main (String[] args) {\n",
    "    int x =3;\n",
    "    System.out.println(x);\n",
    "    double y = 2.3;\n",
    "    System.out.println(y);\n",
    "    boolean z = false;\n",
    "    System.out.println(z);\n",
    "    String w = Hello;\n",
    "    System.out.println(w);\n",
    "  }\n",
    "}"
   ]
  },
  {
   "cell_type": "code",
   "execution_count": 63,
   "metadata": {},
   "outputs": [],
   "source": [
    "public class primitives {\n",
    "    public static void main (String[] args) {\n",
    "    Integer Lucky = 444;\n",
    "    String luckyOne = Lucky.toString();\n",
    "    System.out.println(luckyOne.length());\n",
    "    //Describe in comments how each data type choice is appropriate to application\n",
    "    }\n",
    "}    \n"
   ]
  },
  {
   "cell_type": "code",
   "execution_count": 66,
   "metadata": {},
   "outputs": [
    {
     "name": "stdout",
     "output_type": "stream",
     "text": [
      "3\n"
     ]
    }
   ],
   "source": [
    "\n",
    "    double firstNumber = 5/2;\n",
    "    int firstNumberRounded = (int)(firstNumber + 1.5);\n",
    "    System.out.println(firstNumberRounded);\n",
    "    \n"
   ]
  },
  {
   "cell_type": "markdown",
   "metadata": {},
   "source": [
    "\n",
    "ArithmeticException - an error caused by dividing by zero\n",
    "compound assignment operator - shortcut syntax ( += , -= , *= , /= , %= ) to perform an operation (+ , - , * , / , or % ) on both operands and store the result into the variable on the left\n",
    "compound expression - a combination of expressions\n",
    "expression - a combination of data and operators that evaluates to a single value\n",
    "operand - the data that is operated on\n",
    "truncate - to cut off data from the end\n"
   ]
  }
 ],
 "metadata": {
  "kernelspec": {
   "display_name": "Java",
   "language": "java",
   "name": "java"
  },
  "language_info": {
   "codemirror_mode": "java",
   "file_extension": ".jshell",
   "mimetype": "text/x-java-source",
   "name": "java",
   "pygments_lexer": "java",
   "version": "11.0.16+8-post-Ubuntu-0ubuntu120.04"
  },
  "orig_nbformat": 4,
  "vscode": {
   "interpreter": {
    "hash": "916dbcbb3f70747c44a77c7bcd40155683ae19c65e1c03b4aa3499c5328201f1"
   }
  }
 },
 "nbformat": 4,
 "nbformat_minor": 2
}
