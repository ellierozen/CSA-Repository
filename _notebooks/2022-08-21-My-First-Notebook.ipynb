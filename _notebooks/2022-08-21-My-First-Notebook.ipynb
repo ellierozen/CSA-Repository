{
 "cells": [
  {
   "cell_type": "code",
   "execution_count": 1,
   "metadata": {},
   "outputs": [
    {
     "name": "stdout",
     "output_type": "stream",
     "text": [
      "Hello\n"
     ]
    }
   ],
   "source": [
    "msg = \"Hello\"\n",
    "print(msg)"
   ]
  }
 ],
 "metadata": {
  "kernelspec": {
   "display_name": "Python 3.9.12 ('base')",
   "language": "python",
   "name": "python3"
  },
  "language_info": {
   "name": "python",
   "version": "3.9.12"
  },
  "orig_nbformat": 4,
  "vscode": {
   "interpreter": {
    "hash": "e9257dc81afaa8471273a39e1acb1e4b3b76c4254ef74b6636a79a27dd0a9c0e"
   }
  }
 },
 "nbformat": 4,
 "nbformat_minor": 2
}
